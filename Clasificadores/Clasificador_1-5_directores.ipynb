{
 "cells": [
  {
   "cell_type": "markdown",
   "metadata": {},
   "source": [
    "# Primer Intento de clasificador\n",
    "\n"
   ]
  },
  {
   "cell_type": "markdown",
   "metadata": {},
   "source": [
    "Como el titulo lo dice, primer intento de clasificador usando como referencia el laboratorio x .\n",
    "Se considera para este caso el archivo movies_final_imdb el cual contiene:\n",
    "    \n",
    "    movieId+nota_imbd_aprox+duracion+categoria+actores\n",
    "    \n",
    "    \n",
    "Nota : Falta agregar los directores y quizas las fechas para ve como cambia. "
   ]
  },
  {
   "cell_type": "code",
   "execution_count": 1,
   "metadata": {
    "collapsed": true
   },
   "outputs": [],
   "source": [
    "## Librerias\n",
    "import csv\n",
    "import numpy as np\n",
    "import pandas as pd\n",
    "from sklearn.metrics import accuracy_score, precision_score, recall_score\n",
    "from sklearn.metrics import confusion_matrix, classification_report\n",
    "from sklearn.utils import shuffle\n",
    "\n",
    "# Clasificadores usados : Tree, SVM, RandomForest, Regression, KNN.\n",
    "from sklearn import tree\n",
    "from sklearn import svm\n",
    "from sklearn.ensemble import RandomForestClassifier\n",
    "from sklearn import linear_model\n",
    "from sklearn.neighbors import KNeighborsClassifier\n",
    "\n",
    "\n",
    "from sklearn import cross_validation"
   ]
  },
  {
   "cell_type": "markdown",
   "metadata": {},
   "source": [
    "Cargamos el archivo "
   ]
  },
  {
   "cell_type": "code",
   "execution_count": 75,
   "metadata": {
    "collapsed": false
   },
   "outputs": [
    {
     "name": "stdout",
     "output_type": "stream",
     "text": [
      "[102   0   0 ...,   0   0   0]\n"
     ]
    }
   ],
   "source": [
    "#Cargamos el Archivo.\n",
    "\n",
    "movies = pd.read_csv(\"movies_final.csv\", header = 0)\n",
    "score = pd.read_csv(\"movielens.csv\", header = 0)\n",
    "\n",
    "movies_header = list(movies.columns.values)\n",
    "movies = movies.as_matrix()\n",
    "\n",
    "print movies[4169]\n",
    "\n",
    "score = np.ravel(score.as_matrix())\n",
    "movies = movies[0:4160]\n",
    "score = score[0:4160]\n",
    "\n",
    "\n",
    "#score = np.asarray(score, dtype=\"|S6\")\n",
    "#print(\"Movies:\\n\", movies[4451])\n",
    "#print(\"Score:\\n\", score[4451])\n",
    "#print(movies_header)\n",
    "\n",
    "\n"
   ]
  },
  {
   "cell_type": "markdown",
   "metadata": {},
   "source": [
    "# KNN basico\n",
    "\n"
   ]
  },
  {
   "cell_type": "code",
   "execution_count": 76,
   "metadata": {
    "collapsed": false
   },
   "outputs": [
    {
     "name": "stdout",
     "output_type": "stream",
     "text": [
      "             precision    recall  f1-score   support\n",
      "\n",
      "        1.0       0.00      0.00      0.00        12\n",
      "        2.0       0.50      0.24      0.32       407\n",
      "        3.0       0.68      0.83      0.75      2455\n",
      "        4.0       0.62      0.46      0.53      1285\n",
      "        5.0       0.00      0.00      0.00         1\n",
      "\n",
      "avg / total       0.64      0.66      0.64      4160\n",
      "\n"
     ]
    }
   ],
   "source": [
    "# Primer Clasificador : K-nearnest-neighbors\n",
    "\n",
    "knn = KNeighborsClassifier(n_neighbors=10)\n",
    "knn.fit(movies, score)\n",
    "score_pred = knn.predict(movies)\n",
    "accuracy_score(score, score_pred)\n",
    "\n",
    "print(classification_report(score,score_pred))"
   ]
  },
  {
   "cell_type": "markdown",
   "metadata": {},
   "source": [
    "## KNN manual\n"
   ]
  },
  {
   "cell_type": "code",
   "execution_count": 14,
   "metadata": {
    "collapsed": false
   },
   "outputs": [
    {
     "name": "stdout",
     "output_type": "stream",
     "text": [
      "             precision    recall  f1-score   support\n",
      "\n",
      "        1.0       0.00      0.00      0.00         3\n",
      "        2.0       0.21      0.20      0.21       131\n",
      "        3.0       0.63      0.65      0.64       770\n",
      "        4.0       0.47      0.47      0.47       416\n",
      "\n",
      "avg / total       0.54      0.55      0.54      1320\n",
      "\n"
     ]
    }
   ],
   "source": [
    "# Primer Clasificador : K-nearnest-neighbors\n",
    "\n",
    "\n",
    "X_train, X_test, y_train, y_test = cross_validation.train_test_split(movies, score, test_size=0.33)\n",
    "\n",
    "knn = KNeighborsClassifier(n_neighbors=5)\n",
    "knn.fit(X_train, y_train)\n",
    "y_pred = knn.predict(X_test)\n",
    "accuracy_score(y_test, y_pred)\n",
    "\n",
    "print(classification_report(y_test, y_pred))\n"
   ]
  },
  {
   "cell_type": "markdown",
   "metadata": {},
   "source": [
    "## KNN - Cross Validation"
   ]
  },
  {
   "cell_type": "code",
   "execution_count": 5,
   "metadata": {
    "collapsed": false
   },
   "outputs": [
    {
     "data": {
      "text/plain": [
       "array([ 0.55970149,  0.52736318,  0.515     ,  0.5675    ,  0.5525    ,\n",
       "        0.5825    ,  0.54636591,  0.51879699,  0.55639098,  0.53132832])"
      ]
     },
     "execution_count": 5,
     "metadata": {},
     "output_type": "execute_result"
    }
   ],
   "source": [
    "cross_validation.cross_val_score(knn, movies, score, cv=10)\n"
   ]
  },
  {
   "cell_type": "markdown",
   "metadata": {},
   "source": [
    "Mejora al momento de reducir las clases"
   ]
  },
  {
   "cell_type": "markdown",
   "metadata": {},
   "source": [
    "# Support Vector Machine - SVM"
   ]
  },
  {
   "cell_type": "code",
   "execution_count": 77,
   "metadata": {
    "collapsed": false
   },
   "outputs": [
    {
     "name": "stdout",
     "output_type": "stream",
     "text": [
      "             precision    recall  f1-score   support\n",
      "\n",
      "        1.0       0.00      0.00      0.00        12\n",
      "        2.0       0.00      0.00      0.00       407\n",
      "        3.0       0.61      0.95      0.74      2455\n",
      "        4.0       0.62      0.17      0.26      1285\n",
      "        5.0       0.00      0.00      0.00         1\n",
      "\n",
      "avg / total       0.55      0.61      0.52      4160\n",
      "\n"
     ]
    }
   ],
   "source": [
    "\n",
    "movies_svm = svm.SVC()\n",
    "movies_svm.fit(movies, score)  \n",
    "\n",
    "score_pred = movies_svm.predict(movies)\n",
    "accuracy_score(score, score_pred)\n",
    "\n",
    "print(classification_report(score,score_pred))\n"
   ]
  },
  {
   "cell_type": "markdown",
   "metadata": {},
   "source": [
    "## SVM con Cross-Validation"
   ]
  },
  {
   "cell_type": "code",
   "execution_count": 11,
   "metadata": {
    "collapsed": false
   },
   "outputs": [
    {
     "data": {
      "text/plain": [
       "array([ 0.62468828,  0.59925094,  0.60325407,  0.59324155,  0.61451815])"
      ]
     },
     "execution_count": 11,
     "metadata": {},
     "output_type": "execute_result"
    }
   ],
   "source": [
    "svm_cross = svm.SVC()\n",
    "cross_validation.cross_val_score(svm_cross, movies, score, cv=5)\n",
    "\n",
    "# cv = 3\n",
    "# sin_dir : array([ 0.60973783,  0.6024006 ,  0.60735736])\n",
    "# con_dir : array([ 0.60973783,  0.6024006 ,  0.60735736])\n",
    "\n",
    "\n",
    "#cv = 5\n",
    "# sin_dir : array([ 0.62967581,  0.59925094,  0.60450563,  0.59574468,  0.61451815])\n",
    "# con_dir : array([ 0.62468828,  0.59925094,  0.60325407,  0.59324155,  0.61451815])\n",
    "\n",
    "#cv = 8\n",
    "# array([ 0.62674651,  0.61676647,  0.59680639,  0.60479042,  0.598     , 0.602     ,  0.60240964,  0.61646586])\n",
    "\n",
    "#cv = 2\n",
    "# array([ 0.6095,  0.6025])\n"
   ]
  },
  {
   "cell_type": "markdown",
   "metadata": {},
   "source": [
    "## SVM test set manual"
   ]
  },
  {
   "cell_type": "code",
   "execution_count": 78,
   "metadata": {
    "collapsed": false
   },
   "outputs": [
    {
     "data": {
      "text/plain": [
       "0.60336538461538458"
      ]
     },
     "execution_count": 78,
     "metadata": {},
     "output_type": "execute_result"
    }
   ],
   "source": [
    "X_train, X_test, y_train, y_test = cross_validation.train_test_split(movies, score, test_size=0.80)\n",
    "#, random_state=37\n",
    "\n",
    "svm_manual = svm.SVC()\n",
    "svm_manual.fit(X_train, y_train)\n",
    "y_pred = svm_manual.predict(X_test)\n",
    "accuracy_score(y_test, y_pred)\n",
    "\n",
    "\n",
    "# test_size = 0.5\n",
    "# sin_dir : 0.60999999999999999\n",
    "# con_dir : 0.61150000000000004\n",
    "\n",
    "#test_size = 0.33\n",
    "# sin_dir : 0.62045454545454548\n",
    "# con_dir : 0.61212121212121207\n",
    "\n"
   ]
  },
  {
   "cell_type": "code",
   "execution_count": 80,
   "metadata": {
    "collapsed": false
   },
   "outputs": [
    {
     "name": "stdout",
     "output_type": "stream",
     "text": [
      "\n",
      "\n",
      "Nota original de toy-story : \n",
      "4.0\n",
      "Prediccion de nota para toy story:\n",
      "[ 3.]\n",
      "Note original de avatar\n",
      "4.0\n",
      "Prediccion par avatar\n",
      "[ 4.]\n",
      "Nota original Transformers 4\n",
      "3.0\n",
      "Prediccion para Transformers 4\n",
      "[ 4.]\n"
     ]
    }
   ],
   "source": [
    "#predict toy_story\n",
    "toy_story = movies[0]\n",
    "print \"\\n\\nNota original de toy-story : \"\n",
    "print score[0]\n",
    "#print toy_story\n",
    "print \"Prediccion de nota para toy story:\"\n",
    "print svm_manual.predict([movies[0]])\n",
    "\n",
    "print \"Note original de avatar\"\n",
    "print score[3111]\n",
    "print \"Prediccion par avatar\"\n",
    "print svm_manual.predict([movies[3111]])\n",
    "\n",
    "print \"Nota original Transformers 4\"\n",
    "print score[4057]\n",
    "print \"Prediccion para Transformers 4\"\n",
    "print svm_manual.predict([movies[4057]])"
   ]
  },
  {
   "cell_type": "markdown",
   "metadata": {},
   "source": [
    "-No Acerto a toy-story\n",
    "-Acertó a avatar\n",
    "-No acerto a transformers :(\n"
   ]
  },
  {
   "cell_type": "markdown",
   "metadata": {
    "collapsed": true
   },
   "source": [
    "# Random Forest"
   ]
  },
  {
   "cell_type": "markdown",
   "metadata": {},
   "source": [
    "## Random forest con cross validation."
   ]
  },
  {
   "cell_type": "code",
   "execution_count": 81,
   "metadata": {
    "collapsed": false
   },
   "outputs": [
    {
     "name": "stderr",
     "output_type": "stream",
     "text": [
      "/home/pablo/anaconda2/lib/python2.7/site-packages/sklearn/cross_validation.py:516: Warning: The least populated class in y has only 1 members, which is too few. The minimum number of labels for any class cannot be less than n_folds=5.\n",
      "  % (min_labels, self.n_folds)), Warning)\n"
     ]
    },
    {
     "data": {
      "text/plain": [
       "array([ 0.54316547,  0.56302521,  0.59085439,  0.5788207 ,  0.57521059])"
      ]
     },
     "execution_count": 81,
     "metadata": {},
     "output_type": "execute_result"
    }
   ],
   "source": [
    "#Random forest con cross-validation.\n",
    "\n",
    "forest_cross = RandomForestClassifier(n_estimators=10)\n",
    "cross_validation.cross_val_score(forest_cross, movies, score, cv=5)\n",
    "\n",
    "# cv = 3, n = 10\n",
    "# array([ 0.54456929,  0.57389347,  0.54954955])\n",
    "\n",
    "# cv = 3, n = 10\n",
    "# array([ 0.55735661,  0.57927591,  0.59699625,  0.55319149,  0.57446809])\n",
    "\n"
   ]
  },
  {
   "cell_type": "markdown",
   "metadata": {},
   "source": [
    "## Random Forest test set Manual"
   ]
  },
  {
   "cell_type": "code",
   "execution_count": 82,
   "metadata": {
    "collapsed": false
   },
   "outputs": [
    {
     "data": {
      "text/plain": [
       "0.57211538461538458"
      ]
     },
     "execution_count": 82,
     "metadata": {},
     "output_type": "execute_result"
    }
   ],
   "source": [
    "X_train, X_test, y_train, y_test = cross_validation.train_test_split(movies, score, test_size=0.3)\n",
    "#, random_state=37\n",
    "\n",
    "forest_manual = RandomForestClassifier(n_estimators=10)\n",
    "forest_manual.fit(X_train, y_train)\n",
    "y_pred = forest_manual.predict(X_test)\n",
    "accuracy_score(y_test, y_pred)\n",
    "\n",
    "\n",
    "# test_size = 0.33\n",
    "# 0.57166666666666666\n",
    "\n",
    "# test_size = 0.5\n",
    "# 0.55449999999999999\n"
   ]
  },
  {
   "cell_type": "markdown",
   "metadata": {
    "collapsed": true
   },
   "source": [
    "# Arbol de Decision"
   ]
  },
  {
   "cell_type": "code",
   "execution_count": 83,
   "metadata": {
    "collapsed": false
   },
   "outputs": [
    {
     "name": "stderr",
     "output_type": "stream",
     "text": [
      "/home/pablo/anaconda2/lib/python2.7/site-packages/sklearn/cross_validation.py:516: Warning: The least populated class in y has only 1 members, which is too few. The minimum number of labels for any class cannot be less than n_folds=10.\n",
      "  % (min_labels, self.n_folds)), Warning)\n"
     ]
    },
    {
     "data": {
      "text/plain": [
       "array([ 0.54415274,  0.53349282,  0.51079137,  0.55395683,  0.51318945,\n",
       "        0.5373494 ,  0.55903614,  0.56280193,  0.56763285,  0.5410628 ])"
      ]
     },
     "execution_count": 83,
     "metadata": {},
     "output_type": "execute_result"
    }
   ],
   "source": [
    "movies_tree = tree.DecisionTreeClassifier()\n",
    "cross_validation.cross_val_score(movies_tree, movies, score, cv=10)\n"
   ]
  },
  {
   "cell_type": "markdown",
   "metadata": {},
   "source": [
    "Aparentemente, tanto el arbol de decision como random forest tree no tienen un rendimiento mejor que los otros. ¿Por qué?"
   ]
  },
  {
   "cell_type": "markdown",
   "metadata": {},
   "source": [
    "# Regresion Lineal"
   ]
  },
  {
   "cell_type": "code",
   "execution_count": 84,
   "metadata": {
    "collapsed": false
   },
   "outputs": [
    {
     "data": {
      "text/plain": [
       "array([ -4.99211098e-01,  -3.31371269e-02,  -2.23027303e-02,\n",
       "        -3.44575105e+19,  -7.48805208e+02,  -7.35540231e+19,\n",
       "         1.23895140e-01,  -4.68315809e+20,  -2.00791807e+20,\n",
       "        -1.59888492e+19])"
      ]
     },
     "execution_count": 84,
     "metadata": {},
     "output_type": "execute_result"
    }
   ],
   "source": [
    "reg = linear_model.LinearRegression()\n",
    "cross_validation.cross_val_score(reg, movies, score, cv=10)"
   ]
  },
  {
   "cell_type": "markdown",
   "metadata": {},
   "source": [
    "Esto si que no apaña!!"
   ]
  },
  {
   "cell_type": "markdown",
   "metadata": {},
   "source": [
    "# Dummy Classifier\n",
    "\n",
    "Que debemos hacer ahora ? -> Validar los modelos comparandolos con un dummy "
   ]
  },
  {
   "cell_type": "code",
   "execution_count": null,
   "metadata": {
    "collapsed": true
   },
   "outputs": [],
   "source": []
  }
 ],
 "metadata": {
  "anaconda-cloud": {},
  "kernelspec": {
   "display_name": "Python [conda root]",
   "language": "python",
   "name": "conda-root-py"
  },
  "language_info": {
   "codemirror_mode": {
    "name": "ipython",
    "version": 2
   },
   "file_extension": ".py",
   "mimetype": "text/x-python",
   "name": "python",
   "nbconvert_exporter": "python",
   "pygments_lexer": "ipython2",
   "version": "2.7.12"
  }
 },
 "nbformat": 4,
 "nbformat_minor": 1
}
