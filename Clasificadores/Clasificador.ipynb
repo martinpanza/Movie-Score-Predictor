{
 "cells": [
  {
   "cell_type": "markdown",
   "metadata": {},
   "source": [
    "# Primer Intento de clasificador\n",
    "\n"
   ]
  },
  {
   "cell_type": "markdown",
   "metadata": {},
   "source": [
    "Como el titulo lo dice, primer intento de clasificador usando como referencia el laboratorio x .\n",
    "Se considera para este caso el archivo movies_final_imdb el cual contiene:\n",
    "    \n",
    "    movieId+nota_imbd_aprox+duracion+categoria+actores\n",
    "    \n",
    "    \n",
    "Nota : Falta agregar los directores y quizas las fechas para ve como cambia. "
   ]
  },
  {
   "cell_type": "code",
   "execution_count": 2,
   "metadata": {
    "collapsed": true
   },
   "outputs": [],
   "source": [
    "## Librerias\n",
    "import csv\n",
    "import numpy as np\n",
    "import pandas as pd\n",
    "from sklearn.datasets import load_iris, load_breast_cancer\n",
    "from sklearn.metrics import accuracy_score, precision_score, recall_score\n",
    "from sklearn.metrics import confusion_matrix, classification_report\n",
    "\n",
    "from sklearn.utils import shuffle\n",
    "\n",
    "from sklearn import tree\n",
    "from sklearn import svm\n",
    "from sklearn.neighbors import KNeighborsClassifier\n",
    "\n",
    "from sklearn import cross_validation"
   ]
  },
  {
   "cell_type": "markdown",
   "metadata": {},
   "source": [
    "Cargamos el archivo "
   ]
  },
  {
   "cell_type": "code",
   "execution_count": 86,
   "metadata": {
    "collapsed": false
   },
   "outputs": [],
   "source": [
    "#Cargamos el Archivo.\n",
    "\n",
    "movies = pd.read_csv(\"movies_final.csv\", header = 0)\n",
    "score = pd.read_csv(\"imbd.csv\", header = 0)\n",
    "\n",
    "movies_header = list(movies.columns.values)\n",
    "\n",
    "movies = movies.as_matrix()\n",
    "\n",
    "\n",
    "\n",
    "score = np.ravel(score.as_matrix())\n",
    "movies = movies[0:4400]\n",
    "score = score[0:4400]\n",
    "\n",
    "\n",
    "#score = np.asarray(score, dtype=\"|S6\")\n",
    "#print(\"Movies:\\n\", movies[4451])\n",
    "#print(\"Score:\\n\", score[4451])\n",
    "#print(movies_header)\n",
    "\n",
    "\n"
   ]
  },
  {
   "cell_type": "markdown",
   "metadata": {},
   "source": [
    "# KNN sin Cross-Validation\n",
    "\n"
   ]
  },
  {
   "cell_type": "code",
   "execution_count": 89,
   "metadata": {
    "collapsed": false
   },
   "outputs": [
    {
     "data": {
      "text/plain": [
       "KNeighborsClassifier(algorithm='auto', leaf_size=30, metric='minkowski',\n",
       "           metric_params=None, n_jobs=1, n_neighbors=10, p=2,\n",
       "           weights='uniform')"
      ]
     },
     "execution_count": 89,
     "metadata": {},
     "output_type": "execute_result"
    }
   ],
   "source": [
    "# Primer Clasificador : K-nearnest-neighbors\n",
    "\n",
    "knn = KNeighborsClassifier(n_neighbors=10)\n",
    "knn.fit(movies, score)\n"
   ]
  },
  {
   "cell_type": "code",
   "execution_count": 95,
   "metadata": {
    "collapsed": false
   },
   "outputs": [
    {
     "name": "stdout",
     "output_type": "stream",
     "text": [
      "             precision    recall  f1-score   support\n",
      "\n",
      "          2       0.00      0.00      0.00        15\n",
      "          3       0.19      0.10      0.13        39\n",
      "          4       0.38      0.10      0.15       168\n",
      "          5       0.38      0.33      0.35       458\n",
      "          6       0.52      0.64      0.58      1475\n",
      "          7       0.52      0.57      0.55      1487\n",
      "          8       0.54      0.37      0.44       723\n",
      "          9       1.00      0.03      0.06        35\n",
      "\n",
      "avg / total       0.50      0.51      0.50      4400\n",
      "\n"
     ]
    }
   ],
   "source": [
    "#Predict\n",
    "\n",
    "score_pred = knn.predict(movies)\n",
    "accuracy_score(score, score_pred)\n",
    "\n",
    "print(classification_report(score,score_pred))"
   ]
  },
  {
   "cell_type": "markdown",
   "metadata": {},
   "source": [
    "# KNN con Cross Validation\n"
   ]
  },
  {
   "cell_type": "code",
   "execution_count": 113,
   "metadata": {
    "collapsed": false
   },
   "outputs": [
    {
     "name": "stdout",
     "output_type": "stream",
     "text": [
      "             precision    recall  f1-score   support\n",
      "\n",
      "          2       0.00      0.00      0.00         6\n",
      "          3       0.00      0.00      0.00        14\n",
      "          4       0.07      0.06      0.07        51\n",
      "          5       0.20      0.26      0.22       136\n",
      "          6       0.38      0.44      0.41       494\n",
      "          7       0.40      0.37      0.39       517\n",
      "          8       0.32      0.23      0.27       226\n",
      "          9       0.00      0.00      0.00         8\n",
      "\n",
      "avg / total       0.34      0.34      0.34      1452\n",
      "\n"
     ]
    },
    {
     "data": {
      "text/plain": [
       "array([ 0.35416667,  0.33333333,  0.27083333,  0.27083333,  0.35416667,\n",
       "        0.27083333,  0.25      ,  0.3125    ,  0.41666667,  0.39583333,\n",
       "        0.3125    ,  0.375     ,  0.33333333,  0.29166667,  0.29166667,\n",
       "        0.38297872,  0.17021277,  0.31914894,  0.31914894,  0.27659574,\n",
       "        0.31914894,  0.31914894,  0.36170213,  0.26086957,  0.32608696,\n",
       "        0.2826087 ,  0.30434783,  0.36956522,  0.26086957,  0.43478261,\n",
       "        0.32608696,  0.2173913 ,  0.41304348,  0.30434783,  0.34782609,\n",
       "        0.4       ,  0.37777778,  0.33333333,  0.4       ,  0.25      ,\n",
       "        0.31818182,  0.36363636,  0.43181818,  0.25      ,  0.47727273,\n",
       "        0.38636364,  0.43181818,  0.38636364,  0.31818182,  0.45454545,\n",
       "        0.22727273,  0.40909091,  0.47727273,  0.31818182,  0.36363636,\n",
       "        0.36363636,  0.31818182,  0.36363636,  0.30232558,  0.37209302,\n",
       "        0.39534884,  0.37209302,  0.34883721,  0.41860465,  0.39534884,\n",
       "        0.41860465,  0.27906977,  0.41860465,  0.38095238,  0.30952381,\n",
       "        0.42857143,  0.33333333,  0.30952381,  0.42857143,  0.28571429,\n",
       "        0.41463415,  0.43902439,  0.43902439,  0.24390244,  0.29268293,\n",
       "        0.31707317,  0.36585366,  0.24390244,  0.31707317,  0.43902439,\n",
       "        0.41463415,  0.31707317,  0.325     ,  0.45      ,  0.25      ,\n",
       "        0.325     ,  0.4       ,  0.425     ,  0.425     ,  0.35      ,\n",
       "        0.45      ,  0.425     ,  0.325     ,  0.35      ,  0.325     ])"
      ]
     },
     "execution_count": 113,
     "metadata": {},
     "output_type": "execute_result"
    }
   ],
   "source": [
    "X_train, X_test, y_train, y_test = cross_validation.train_test_split(movies, score, test_size=0.33, random_state=37)\n",
    "\n",
    "knn = KNeighborsClassifier(n_neighbors=5)\n",
    "knn.fit(X_train, y_train)\n",
    "y_pred = knn.predict(X_test)\n",
    "accuracy_score(y_test, y_pred)\n",
    "\n",
    "# Hacemos \n",
    "print(classification_report(y_test, y_pred))\n",
    "\n",
    "#Hacemos el cross validation\n",
    "cross_validation.cross_val_score(knn, movies, score, cv=50)"
   ]
  },
  {
   "cell_type": "markdown",
   "metadata": {},
   "source": [
    "Aparentemente no es buen clasificador para estos casos. ¿Por qué?"
   ]
  },
  {
   "cell_type": "markdown",
   "metadata": {},
   "source": [
    "# Support Vector Machine - SVM"
   ]
  },
  {
   "cell_type": "code",
   "execution_count": 120,
   "metadata": {
    "collapsed": false
   },
   "outputs": [
    {
     "name": "stdout",
     "output_type": "stream",
     "text": [
      "             precision    recall  f1-score   support\n",
      "\n",
      "          2       0.56      0.60      0.58        15\n",
      "          3       0.57      0.82      0.67        39\n",
      "          4       0.71      0.69      0.70       168\n",
      "          5       0.68      0.72      0.70       458\n",
      "          6       0.77      0.79      0.78      1475\n",
      "          7       0.80      0.74      0.77      1487\n",
      "          8       0.74      0.77      0.76       723\n",
      "          9       0.75      0.77      0.76        35\n",
      "\n",
      "avg / total       0.76      0.76      0.76      4400\n",
      "\n"
     ]
    }
   ],
   "source": [
    "\n",
    "movies_svm = svm.SVC()\n",
    "movies_svm.fit(movies, score)  \n",
    "\n",
    "score_pred = knn.predict(movies)\n",
    "accuracy_score(score, score_pred)\n",
    "\n",
    "print(classification_report(score,score_pred))\n"
   ]
  },
  {
   "cell_type": "markdown",
   "metadata": {},
   "source": [
    "# SVM con Cross-Validation"
   ]
  },
  {
   "cell_type": "code",
   "execution_count": 131,
   "metadata": {
    "collapsed": false
   },
   "outputs": [
    {
     "data": {
      "text/plain": [
       "array([ 0.41125738,  0.41010469])"
      ]
     },
     "execution_count": 131,
     "metadata": {},
     "output_type": "execute_result"
    }
   ],
   "source": [
    "movies_svm = svm.SVC()\n",
    "cross_validation.cross_val_score(movies_svm, movies, score, cv=2)\n",
    "\n",
    "# cv = 3\n",
    "#array([ 0.42029973,  0.39305177,  0.41598361])\n",
    "\n",
    "\n",
    "#cv = 5\n",
    "# array([ 0.40816327,  0.41156463,  0.39954597,  0.4214123 ,  0.41619156])\n",
    "\n",
    "\n",
    "#cv = 2\n",
    "# array([ 0.41125738,  0.41010469])\n"
   ]
  },
  {
   "cell_type": "markdown",
   "metadata": {},
   "source": [
    "# SVM test set manual"
   ]
  },
  {
   "cell_type": "code",
   "execution_count": 127,
   "metadata": {
    "collapsed": false
   },
   "outputs": [
    {
     "data": {
      "text/plain": [
       "0.76636363636363636"
      ]
     },
     "execution_count": 127,
     "metadata": {},
     "output_type": "execute_result"
    }
   ],
   "source": [
    "X_train, X_test, y_train, y_test = cross_validation.train_test_split(movies, score, test_size=0.5)\n",
    "#, random_state=37\n",
    "\n",
    "movies_svm = svm.SVC()\n",
    "movies_svm.fit(X_train, y_train)\n",
    "y_pred = knn.predict(X_test)\n",
    "accuracy_score(y_test, y_pred)\n"
   ]
  },
  {
   "cell_type": "markdown",
   "metadata": {},
   "source": [
    "Misteriosamente al tomar un 33% y un 50% del dataset, el resultado es bastante bueno."
   ]
  },
  {
   "cell_type": "code",
   "execution_count": null,
   "metadata": {
    "collapsed": true
   },
   "outputs": [],
   "source": []
  }
 ],
 "metadata": {
  "kernelspec": {
   "display_name": "Python [conda root]",
   "language": "python",
   "name": "conda-root-py"
  },
  "language_info": {
   "codemirror_mode": {
    "name": "ipython",
    "version": 2
   },
   "file_extension": ".py",
   "mimetype": "text/x-python",
   "name": "python",
   "nbconvert_exporter": "python",
   "pygments_lexer": "ipython2",
   "version": "2.7.12"
  }
 },
 "nbformat": 4,
 "nbformat_minor": 1
}
