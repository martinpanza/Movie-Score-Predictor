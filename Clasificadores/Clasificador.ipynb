{
 "cells": [
  {
   "cell_type": "markdown",
   "metadata": {},
   "source": [
    "# Primer Intento de clasificador\n",
    "\n"
   ]
  },
  {
   "cell_type": "markdown",
   "metadata": {},
   "source": [
    "Como el titulo lo dice, primer intento de clasificador usando como referencia el laboratorio x .\n",
    "Se considera para este caso el archivo movies_final_imdb el cual contiene:\n",
    "    \n",
    "    movieId+nota_imbd_aprox+duracion+categoria+actores+directores\n",
    "    \n",
    "    \n",
    "Nota : Falta agregar los directores y quizas las fechas para ve como cambia. "
   ]
  },
  {
   "cell_type": "code",
   "execution_count": 39,
   "metadata": {
    "collapsed": false
   },
   "outputs": [],
   "source": [
    "## Librerias Basicas:\n",
    "import csv\n",
    "import numpy as np\n",
    "import pandas as pd\n",
    "\n",
    "#Metricas y Estadisticas:\n",
    "from statsmodels.stats.weightstats import ttest_ind\n",
    "from sklearn.metrics import accuracy_score, precision_score, recall_score\n",
    "from sklearn.metrics import confusion_matrix, classification_report\n",
    "from sklearn.utils import shuffle\n",
    "from sklearn.cross_validation import train_test_split\n",
    "from sklearn.metrics import classification_report\n",
    "from sklearn import cross_validation\n",
    "\n",
    "\n",
    "# Clasificadores : Tree, SVM, RandomForest, Regression, KNN.\n",
    "from sklearn.svm import SVC  # support vector machine classifier\n",
    "from sklearn.tree import DecisionTreeClassifier\n",
    "from sklearn.naive_bayes import GaussianNB  # naive bayes\n",
    "from sklearn.neighbors import KNeighborsClassifier\n",
    "from sklearn import tree\n",
    "from sklearn import svm\n",
    "from sklearn.ensemble import RandomForestClassifier\n",
    "from sklearn import linear_model\n",
    "from sklearn.neighbors import KNeighborsClassifier\n",
    "from sklearn.dummy import DummyClassifier\n",
    "\n"
   ]
  },
  {
   "cell_type": "markdown",
   "metadata": {},
   "source": [
    "Cargamos el archivo "
   ]
  },
  {
   "cell_type": "code",
   "execution_count": 40,
   "metadata": {
    "collapsed": false
   },
   "outputs": [
    {
     "name": "stdout",
     "output_type": "stream",
     "text": [
      "[74  0  1 ...,  0  0  0]\n"
     ]
    }
   ],
   "source": [
    "#Cargamos el Archivo.\n",
    "\n",
    "movies = pd.read_csv(\"movies_final.csv\", header = 0)\n",
    "score = pd.read_csv(\"movielens.csv\", header = 0)\n",
    "\n",
    "movies_header = list(movies.columns.values)\n",
    "movies = movies.as_matrix()\n",
    "\n",
    "score = np.ravel(score.as_matrix())\n",
    "#score2 = score\n",
    "#movies2 = movies\n",
    "#movies = movies[0:4405]\n",
    "#score = score[0:4405]\n",
    "\n",
    "print (movies[0])\n",
    "\n",
    "#score = np.asarray(score, dtype=\"|S6\")\n",
    "#print(\"Movies:\\n\", movies[4451])\n",
    "#print(\"Score:\\n\", score[4451])\n",
    "#print(movies_header)\n",
    "\n",
    "\n"
   ]
  },
  {
   "cell_type": "markdown",
   "metadata": {},
   "source": [
    "# Reestructuracion del codigo y validación.\n",
    "\n",
    "Definimos las funciones del clasificador:"
   ]
  },
  {
   "cell_type": "code",
   "execution_count": 48,
   "metadata": {
    "collapsed": true
   },
   "outputs": [],
   "source": [
    "#Variar el num_test modifica la probabilidad de estar mas cerca del promedio al hacer un t-test. \n",
    "#Creo que con 30 es suficiente para ese tipo de distribuciones.\n",
    "\n",
    "def run_classifier(clf, X, y, num_tests=30):\n",
    "    scores = []\n",
    "    \n",
    "    for i in range(num_tests):\n",
    "        X_train, X_test, y_train, y_test = train_test_split(X, y, test_size=0.80)\n",
    "        clf.fit(X_train, y_train)\n",
    "        scores.append(clf.score(X_test, y_test))\n",
    "\n",
    "    return np.array(scores)"
   ]
  },
  {
   "cell_type": "markdown",
   "metadata": {},
   "source": [
    "Agregamos varios tipos de clasificadores :"
   ]
  },
  {
   "cell_type": "code",
   "execution_count": 49,
   "metadata": {
    "collapsed": false
   },
   "outputs": [],
   "source": [
    "c0 = (\"Base\", DummyClassifier(strategy='stratified'))\n",
    "c1 = (\"SVM\", SVC(kernel='linear'))\n",
    "c2 = (\"DT\", DecisionTreeClassifier())\n",
    "c3 = (\"NB\", GaussianNB())\n",
    "c4 = (\"KNN\", KNeighborsClassifier(n_neighbors=5))\n",
    "c5 = (\"RandomForest\", RandomForestClassifier(n_estimators=10))\n",
    "\n",
    "classifiers = [c0, c1, c2, c3, c4,c5,]\n",
    "result_list = []"
   ]
  },
  {
   "cell_type": "markdown",
   "metadata": {},
   "source": [
    "Corremos las pruebas para cada test. "
   ]
  },
  {
   "cell_type": "code",
   "execution_count": 50,
   "metadata": {
    "collapsed": false
   },
   "outputs": [],
   "source": [
    "#Funcion Pesada, correr solo una vez. \n",
    "\n",
    "for name, clf in classifiers:\n",
    "    accuracys = run_classifier(clf ,movies , score)\n",
    "    result_list.append((name, accuracys))\n",
    "    "
   ]
  },
  {
   "cell_type": "code",
   "execution_count": 51,
   "metadata": {
    "collapsed": false
   },
   "outputs": [
    {
     "name": "stdout",
     "output_type": "stream",
     "text": [
      "+ indica diferencia significativa\n",
      "\n",
      "Comparando Base - Accuracy: 0.45\n",
      "SVM:\t0.59 +\n",
      "DT:\t0.53 +\n",
      "NB:\t0.39 +\n",
      "KNN:\t0.54 +\n",
      "RandomForest:\t0.56 +\n",
      "()\n",
      "Comparando SVM - Accuracy: 0.59\n",
      "Base:\t0.45 +\n",
      "DT:\t0.53 +\n",
      "NB:\t0.39 +\n",
      "KNN:\t0.54 +\n",
      "RandomForest:\t0.56 +\n",
      "()\n",
      "Comparando DT - Accuracy: 0.53\n",
      "Base:\t0.45 +\n",
      "SVM:\t0.59 +\n",
      "NB:\t0.39 +\n",
      "KNN:\t0.54 \n",
      "RandomForest:\t0.56 +\n",
      "()\n",
      "Comparando NB - Accuracy: 0.39\n",
      "Base:\t0.45 +\n",
      "SVM:\t0.59 +\n",
      "DT:\t0.53 +\n",
      "KNN:\t0.54 +\n",
      "RandomForest:\t0.56 +\n",
      "()\n",
      "Comparando KNN - Accuracy: 0.54\n",
      "Base:\t0.45 +\n",
      "SVM:\t0.59 +\n",
      "DT:\t0.53 \n",
      "NB:\t0.39 +\n",
      "RandomForest:\t0.56 +\n",
      "()\n",
      "Comparando RandomForest - Accuracy: 0.56\n",
      "Base:\t0.45 +\n",
      "SVM:\t0.59 +\n",
      "DT:\t0.53 +\n",
      "NB:\t0.39 +\n",
      "KNN:\t0.54 +\n",
      "()\n"
     ]
    }
   ],
   "source": [
    "#Impresion de los resultados\n",
    "\n",
    "print(\"+ indica diferencia significativa\\n\")\n",
    "\n",
    "for name1, results1 in result_list:\n",
    "    print(\"Comparando %s - Accuracy: %.2f\" % (name1, results1.mean()))\n",
    "    for name2, results2 in result_list:\n",
    "        if name1 == name2:\n",
    "            continue\n",
    "\n",
    "        _, p_value, __ = ttest_ind(results1, results2)\n",
    "        \n",
    "        if p_value <= 0.05:\n",
    "            sig = \"+\"\n",
    "        else:\n",
    "            sig = \"\"\n",
    "        print(\"%s:\\t%.2f %s\" % (name2, results2.mean(), sig))\n",
    "    print()"
   ]
  },
  {
   "cell_type": "markdown",
   "metadata": {},
   "source": [
    "# Predicciones de algunas peliculas\n",
    "\n",
    "Usando la siguiente funcion, se puede imprimir mas facilmente los resultados y luego calcular algunas metricas importantes. "
   ]
  },
  {
   "cell_type": "code",
   "execution_count": 77,
   "metadata": {
    "collapsed": false
   },
   "outputs": [
    {
     "name": "stdout",
     "output_type": "stream",
     "text": [
      "('SVM', SVC(C=1.0, cache_size=200, class_weight=None, coef0=0.0,\n",
      "  decision_function_shape=None, degree=3, gamma='auto', kernel='linear',\n",
      "  max_iter=-1, probability=False, random_state=None, shrinking=True,\n",
      "  tol=0.001, verbose=False))\n"
     ]
    },
    {
     "ename": "AttributeError",
     "evalue": "'tuple' object has no attribute 'predict'",
     "output_type": "error",
     "traceback": [
      "\u001b[0;31m---------------------------------------------------------------------------\u001b[0m",
      "\u001b[0;31mAttributeError\u001b[0m                            Traceback (most recent call last)",
      "\u001b[0;32m<ipython-input-77-6a4331c2f3fc>\u001b[0m in \u001b[0;36m<module>\u001b[0;34m()\u001b[0m\n\u001b[1;32m      7\u001b[0m \u001b[0;31m#print (sample_movies[0][1])\u001b[0m\u001b[0;34m\u001b[0m\u001b[0;34m\u001b[0m\u001b[0m\n\u001b[1;32m      8\u001b[0m \u001b[0;34m\u001b[0m\u001b[0m\n\u001b[0;32m----> 9\u001b[0;31m \u001b[0mclf_tst\u001b[0m\u001b[0;34m.\u001b[0m\u001b[0mpredict\u001b[0m\u001b[0;34m(\u001b[0m\u001b[0mmovies\u001b[0m\u001b[0;34m[\u001b[0m\u001b[0;36m0\u001b[0m\u001b[0;34m]\u001b[0m\u001b[0;34m)\u001b[0m\u001b[0;34m\u001b[0m\u001b[0m\n\u001b[0m\u001b[1;32m     10\u001b[0m \u001b[0;34m\u001b[0m\u001b[0m\n\u001b[1;32m     11\u001b[0m \u001b[0;31m#Corre con la ultima ejecucion del fit en la seccion anterior. ESTO SE PUEDE MEJORAR!\u001b[0m\u001b[0;34m\u001b[0m\u001b[0;34m\u001b[0m\u001b[0m\n",
      "\u001b[0;31mAttributeError\u001b[0m: 'tuple' object has no attribute 'predict'"
     ]
    }
   ],
   "source": [
    "sample_movies = [(\"Toy Story\", movies[0], score[0]),(\"Avatar\", movies[3], score[3])]\n",
    "\n",
    "predicted_scores = []\n",
    "\n",
    "clf_tst = classifiers[1]\n",
    "print(clf_tst)\n",
    "#print (sample_movies[0][1])\n",
    "\n",
    "clf_tst.predict(movies[0])\n",
    "\n",
    "#Corre con la ultima ejecucion del fit en la seccion anterior. ESTO SE PUEDE MEJORAR!\n",
    "#for clf_name, clf in classifiers:\n",
    "#    for sample_name, sample_data, sample_score in sample_movies:\n",
    "#        clf.predict(sample_data)"
   ]
  },
  {
   "cell_type": "code",
   "execution_count": null,
   "metadata": {
    "collapsed": true
   },
   "outputs": [],
   "source": []
  },
  {
   "cell_type": "markdown",
   "metadata": {},
   "source": [
    "# Parte de los clasificadores - Version Antigua."
   ]
  },
  {
   "cell_type": "markdown",
   "metadata": {},
   "source": [
    "# KNN basico\n",
    "\n"
   ]
  },
  {
   "cell_type": "code",
   "execution_count": 68,
   "metadata": {
    "collapsed": false
   },
   "outputs": [
    {
     "name": "stdout",
     "output_type": "stream",
     "text": [
      "             precision    recall  f1-score   support\n",
      "\n",
      "          0       0.00      0.00      0.00         5\n",
      "          1       0.00      0.00      0.00        15\n",
      "          2       0.51      0.29      0.37       459\n",
      "          3       0.68      0.82      0.74      2618\n",
      "          4       0.61      0.47      0.53      1352\n",
      "          5       0.00      0.00      0.00         3\n",
      "\n",
      "avg / total       0.64      0.65      0.63      4452\n",
      "\n"
     ]
    }
   ],
   "source": [
    "# Primer Clasificador : K-nearnest-neighbors\n",
    "\n",
    "knn = KNeighborsClassifier(n_neighbors=10)\n",
    "knn.fit(movies, score)\n",
    "score_pred = knn.predict(movies)\n",
    "accuracy_score(score, score_pred)\n",
    "\n",
    "print(classification_report(score,score_pred))"
   ]
  },
  {
   "cell_type": "markdown",
   "metadata": {},
   "source": [
    "## KNN manual\n"
   ]
  },
  {
   "cell_type": "code",
   "execution_count": 69,
   "metadata": {
    "collapsed": false
   },
   "outputs": [
    {
     "name": "stdout",
     "output_type": "stream",
     "text": [
      "             precision    recall  f1-score   support\n",
      "\n",
      "          0       0.00      0.00      0.00         2\n",
      "          1       0.00      0.00      0.00         4\n",
      "          2       0.24      0.24      0.24       140\n",
      "          3       0.62      0.70      0.66       858\n",
      "          4       0.50      0.39      0.44       465\n",
      "          5       0.00      0.00      0.00         1\n",
      "\n",
      "avg / total       0.55      0.56      0.55      1470\n",
      "\n"
     ]
    }
   ],
   "source": [
    "# Primer Clasificador : K-nearnest-neighbors\n",
    "\n",
    "\n",
    "X_train, X_test, y_train, y_test = cross_validation.train_test_split(movies, score, test_size=0.33)\n",
    "\n",
    "knn = KNeighborsClassifier(n_neighbors=5)\n",
    "knn.fit(X_train, y_train)\n",
    "y_pred = knn.predict(X_test)\n",
    "accuracy_score(y_test, y_pred)\n",
    "\n",
    "print(classification_report(y_test, y_pred))\n"
   ]
  },
  {
   "cell_type": "markdown",
   "metadata": {},
   "source": [
    "## KNN - Cross Validation"
   ]
  },
  {
   "cell_type": "code",
   "execution_count": 70,
   "metadata": {
    "collapsed": false
   },
   "outputs": [
    {
     "name": "stdout",
     "output_type": "stream",
     "text": [
      "[ 0.53131313  0.54410774  0.51147099]\n",
      "Accuracy: 0.53 (+/- 0.03)\n"
     ]
    }
   ],
   "source": [
    "knn_cross = cross_validation.cross_val_score(knn, movies, score, cv=3)\n",
    "\n",
    "print knn_cross\n",
    "print(\"Accuracy: %0.2f (+/- %0.2f)\" % (knn_cross.mean(), knn_cross.std() * 2))\n",
    "\n",
    "\n"
   ]
  },
  {
   "cell_type": "markdown",
   "metadata": {},
   "source": [
    "Mejora al momento de reducir las clases"
   ]
  },
  {
   "cell_type": "markdown",
   "metadata": {},
   "source": [
    "# Support Vector Machine - SVM"
   ]
  },
  {
   "cell_type": "code",
   "execution_count": 71,
   "metadata": {
    "collapsed": false
   },
   "outputs": [
    {
     "name": "stdout",
     "output_type": "stream",
     "text": [
      "             precision    recall  f1-score   support\n",
      "\n",
      "          0       0.00      0.00      0.00         5\n",
      "          1       0.00      0.00      0.00        15\n",
      "          2       0.00      0.00      0.00       459\n",
      "          3       0.61      0.95      0.74      2618\n",
      "          4       0.63      0.17      0.26      1352\n",
      "          5       0.00      0.00      0.00         3\n",
      "\n",
      "avg / total       0.55      0.61      0.52      4452\n",
      "\n"
     ]
    }
   ],
   "source": [
    "\n",
    "movies_svm = svm.SVC()\n",
    "movies_svm.fit(movies, score)  \n",
    "\n",
    "score_pred = movies_svm.predict(movies)\n",
    "accuracy_score(score, score_pred)\n",
    "\n",
    "print(classification_report(score,score_pred))\n"
   ]
  },
  {
   "cell_type": "markdown",
   "metadata": {},
   "source": [
    "## SVM con Cross-Validation"
   ]
  },
  {
   "cell_type": "code",
   "execution_count": 74,
   "metadata": {
    "collapsed": false,
    "scrolled": true
   },
   "outputs": [
    {
     "name": "stderr",
     "output_type": "stream",
     "text": [
      "/home/pablo/anaconda2/lib/python2.7/site-packages/sklearn/cross_validation.py:516: Warning: The least populated class in y has only 3 members, which is too few. The minimum number of labels for any class cannot be less than n_folds=10.\n",
      "  % (min_labels, self.n_folds)), Warning)\n"
     ]
    },
    {
     "name": "stdout",
     "output_type": "stream",
     "text": [
      "[ 0.62276786  0.62053571  0.59284116  0.60538117  0.60089686  0.6036036\n",
      "  0.59459459  0.6036036   0.61625282  0.61312217]\n",
      "Accuracy: 0.61 (+/- 0.02)\n"
     ]
    }
   ],
   "source": [
    "svm_cross = svm.SVC()\n",
    "cross = cross_validation.cross_val_score(svm_cross, movies, score, cv=10)\n",
    "\n",
    "#Estadisticos respecto al cross validation\n",
    "print cross\n",
    "print(\"Accuracy: %0.2f (+/- %0.2f)\" % (cross.mean(), cross.std() * 2))\n",
    "\n",
    "#Res previos [ 0.61771058  0.60606061  0.60505415]\n",
    "#Accuracy: 0.61 (+/- 0.01)"
   ]
  },
  {
   "cell_type": "markdown",
   "metadata": {},
   "source": [
    "## SVM test set manual"
   ]
  },
  {
   "cell_type": "code",
   "execution_count": 86,
   "metadata": {
    "collapsed": false
   },
   "outputs": [
    {
     "data": {
      "text/plain": [
       "0.61360544217687074"
      ]
     },
     "execution_count": 86,
     "metadata": {},
     "output_type": "execute_result"
    }
   ],
   "source": [
    "X_train, X_test, y_train, y_test = cross_validation.train_test_split(movies, score, test_size=0.33, random_state=45)\n",
    "\n",
    "\n",
    "svm_manual = svm.SVC()\n",
    "svm_manual.fit(X_train, y_train)\n",
    "y_pred = svm_manual.predict(X_test)\n",
    "accuracy_score(y_test, y_pred)\n",
    "# test_size, random_state\n",
    "# 0,33 , 37 -> 0.59863945578231292\n",
    "# 0,33 , 45 -> 0.61360544217687074\n",
    "# 0,33 , 80 -> 0.60612244897959189\n",
    "\n",
    "# 0,66 , 37 -> 0.60598843143926506\n",
    "# 0,66 , 45 -> 0.60428717250765562\n"
   ]
  },
  {
   "cell_type": "code",
   "execution_count": 99,
   "metadata": {
    "collapsed": false
   },
   "outputs": [
    {
     "name": "stdout",
     "output_type": "stream",
     "text": [
      "\n",
      "\n",
      "Nota original de toy-story : \n",
      "4\n",
      "Prediccion de nota para toy story:\n",
      "[3]\n",
      "Nota original de avatar\n",
      "4\n",
      "Prediccion par avatar\n",
      "[4]\n",
      "Nota original Transformers 4\n",
      "3\n",
      "Prediccion para Transformers 4\n",
      "[4]\n",
      "Nota Original Avatar: The last Airbender\n",
      "2\n",
      "Prediccion para Avatar : The last Airbender\n",
      "[3]\n",
      "Nota original Justin Bieber: Never Say Never \n",
      "1\n",
      "Prediccion para Justin Bieber: Never Say Never\n",
      "[3]\n",
      "Nota original Sex and the city 2\n",
      "2\n",
      "Prediccion para Sex and the city 2\n",
      "[3]\n",
      "Nota original Titanic\n",
      "3\n",
      "Prediccion para Titanic\n",
      "[4]\n"
     ]
    }
   ],
   "source": [
    "#predict toy_story\n",
    "toy_story = movies[0]\n",
    "print \"\\n\\nNota original de toy-story : \"\n",
    "print score[0]\n",
    "#print toy_story\n",
    "print \"Prediccion de nota para toy story:\"\n",
    "print svm_manual.predict([movies[0]])\n",
    "\n",
    "print \"Nota original de avatar\"\n",
    "print score[3111]\n",
    "print \"Prediccion par avatar\"\n",
    "print svm_manual.predict([movies[3111]])\n",
    "\n",
    "print \"Nota original Transformers 4\"\n",
    "print score[4057]\n",
    "print \"Prediccion para Transformers 4\"\n",
    "print svm_manual.predict([movies[4057]])\n",
    "\n",
    "print \"Nota Original Avatar: The last Airbender\"\n",
    "print score[3233]\n",
    "print \"Prediccion para Avatar : The last Airbender\"\n",
    "print svm_manual.predict([movies[3233]])\n",
    "\n",
    "print \"Nota original Justin Bieber: Never Say Never \"\n",
    "print score[4189]\n",
    "print \"Prediccion para Justin Bieber: Never Say Never\"\n",
    "print svm_manual.predict([movies[4189]])\n",
    "\n",
    "print \"Nota original Sex and the city 2\"\n",
    "print score[3214]\n",
    "print \"Prediccion para Sex and the city 2\"\n",
    "print svm_manual.predict([movies[4189]])\n",
    "\n",
    "print \"Nota original Titanic\"\n",
    "print score[458]\n",
    "print \"Prediccion para Titanic\"\n",
    "print svm_manual.predict([movies[458]])"
   ]
  },
  {
   "cell_type": "markdown",
   "metadata": {},
   "source": [
    "-No Acerto a toy-story\n",
    "-Acertó a avatar\n",
    "-No acerto a transformers :(\n"
   ]
  },
  {
   "cell_type": "markdown",
   "metadata": {
    "collapsed": true
   },
   "source": [
    "# Random Forest"
   ]
  },
  {
   "cell_type": "markdown",
   "metadata": {},
   "source": [
    "## Random forest con cross validation."
   ]
  },
  {
   "cell_type": "code",
   "execution_count": 103,
   "metadata": {
    "collapsed": false
   },
   "outputs": [
    {
     "name": "stdout",
     "output_type": "stream",
     "text": [
      "[ 0.54478114  0.56969697  0.5802969 ]\n",
      "Accuracy: 0.56 (+/- 0.03)\n"
     ]
    }
   ],
   "source": [
    "#Random forest con cross-validation.\n",
    "\n",
    "forest_cross = RandomForestClassifier(n_estimators=10)\n",
    "forest_cross_score = cross_validation.cross_val_score(forest_cross, movies, score, cv=3)\n",
    "print forest_cross_score\n",
    "print(\"Accuracy: %0.2f (+/- %0.2f)\" % (forest_cross_score.mean(), forest_cross_score.std() * 2))\n",
    "\n",
    "\n",
    "# cv = 3, n = 10\n",
    "# array([ 0.54456929,  0.57389347,  0.54954955])\n",
    "\n",
    "# cv = 3, n = 10\n",
    "# array([ 0.55735661,  0.57927591,  0.59699625,  0.55319149,  0.57446809])\n",
    "\n"
   ]
  },
  {
   "cell_type": "markdown",
   "metadata": {},
   "source": [
    "## Random Forest test set Manual"
   ]
  },
  {
   "cell_type": "code",
   "execution_count": 82,
   "metadata": {
    "collapsed": false
   },
   "outputs": [
    {
     "data": {
      "text/plain": [
       "0.57211538461538458"
      ]
     },
     "execution_count": 82,
     "metadata": {},
     "output_type": "execute_result"
    }
   ],
   "source": [
    "X_train, X_test, y_train, y_test = cross_validation.train_test_split(movies, score, test_size=0.3)\n",
    "#, random_state=37\n",
    "\n",
    "forest_manual = RandomForestClassifier(n_estimators=10)\n",
    "forest_manual.fit(X_train, y_train)\n",
    "y_pred = forest_manual.predict(X_test)\n",
    "accuracy_score(y_test, y_pred)\n",
    "\n",
    "\n",
    "# test_size = 0.33\n",
    "# 0.57166666666666666\n",
    "\n",
    "# test_size = 0.5\n",
    "# 0.55449999999999999\n"
   ]
  },
  {
   "cell_type": "markdown",
   "metadata": {
    "collapsed": true
   },
   "source": [
    "# Arbol de Decision"
   ]
  },
  {
   "cell_type": "code",
   "execution_count": 83,
   "metadata": {
    "collapsed": false
   },
   "outputs": [
    {
     "name": "stderr",
     "output_type": "stream",
     "text": [
      "/home/pablo/anaconda2/lib/python2.7/site-packages/sklearn/cross_validation.py:516: Warning: The least populated class in y has only 1 members, which is too few. The minimum number of labels for any class cannot be less than n_folds=10.\n",
      "  % (min_labels, self.n_folds)), Warning)\n"
     ]
    },
    {
     "data": {
      "text/plain": [
       "array([ 0.54415274,  0.53349282,  0.51079137,  0.55395683,  0.51318945,\n",
       "        0.5373494 ,  0.55903614,  0.56280193,  0.56763285,  0.5410628 ])"
      ]
     },
     "execution_count": 83,
     "metadata": {},
     "output_type": "execute_result"
    }
   ],
   "source": [
    "movies_tree = tree.DecisionTreeClassifier()\n",
    "cross_validation.cross_val_score(movies_tree, movies, score, cv=10)\n"
   ]
  },
  {
   "cell_type": "markdown",
   "metadata": {},
   "source": [
    "Aparentemente, tanto el arbol de decision como random forest tree no tienen un rendimiento mejor que los otros. ¿Por qué?"
   ]
  },
  {
   "cell_type": "markdown",
   "metadata": {},
   "source": [
    "# Dummy Classifier\n",
    "\n",
    "Que debemos hacer ahora ? -> Validar los modelos comparandolos con un dummy "
   ]
  },
  {
   "cell_type": "code",
   "execution_count": null,
   "metadata": {
    "collapsed": true
   },
   "outputs": [],
   "source": []
  }
 ],
 "metadata": {
  "anaconda-cloud": {},
  "kernelspec": {
   "display_name": "Python [conda root]",
   "language": "python",
   "name": "conda-root-py"
  },
  "language_info": {
   "codemirror_mode": {
    "name": "ipython",
    "version": 2
   },
   "file_extension": ".py",
   "mimetype": "text/x-python",
   "name": "python",
   "nbconvert_exporter": "python",
   "pygments_lexer": "ipython2",
   "version": "2.7.12"
  }
 },
 "nbformat": 4,
 "nbformat_minor": 1
}
