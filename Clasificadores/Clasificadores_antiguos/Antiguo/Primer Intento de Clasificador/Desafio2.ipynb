{
 "cells": [
  {
   "cell_type": "markdown",
   "metadata": {},
   "source": [
    "# Laboratorio 3: Clasificación (Parte 1)"
   ]
  },
  {
   "cell_type": "markdown",
   "metadata": {},
   "source": [
    "## Parte 1: Evaluar un clasificador"
   ]
  },
  {
   "cell_type": "markdown",
   "metadata": {},
   "source": [
    "Primero cargamos las librerías y los datos necesarios para este laboratorio:"
   ]
  },
  {
   "cell_type": "code",
   "execution_count": 89,
   "metadata": {
    "collapsed": false
   },
   "outputs": [],
   "source": [
    "## ejecutar este bloque para cargar las librerías\n",
    "import csv\n",
    "import numpy as np\n",
    "import pandas as pd\n",
    "from sklearn.datasets import load_iris, load_breast_cancer\n",
    "from sklearn.metrics import accuracy_score, precision_score, recall_score\n",
    "from sklearn.metrics import confusion_matrix, classification_report\n",
    "\n",
    "from sklearn.utils import shuffle\n",
    "\n",
    "from sklearn import tree\n",
    "from sklearn import svm\n",
    "from sklearn.neighbors import KNeighborsClassifier\n",
    "\n",
    "from sklearn import cross_validation"
   ]
  },
  {
   "cell_type": "markdown",
   "metadata": {},
   "source": [
    "Usaremos el Iris Dataset, que viene en `scikit-learn`:"
   ]
  },
  {
   "cell_type": "code",
   "execution_count": 90,
   "metadata": {
    "collapsed": false
   },
   "outputs": [
    {
     "name": "stdout",
     "output_type": "stream",
     "text": [
      "('Data:\\n', array([[ 123, 1916],\n",
      "       [ 151, 1925],\n",
      "       [ 145, 1927],\n",
      "       [ 110, 1929],\n",
      "       [ 100, 1929]], dtype=int64))\n",
      "('Target:\\n', array(['8.0', '8.3', '8.3', '8.0', '6.3'], \n",
      "      dtype='|S6'), array(['6.8', '6.7', '7.8', '7.7', '7.8'], \n",
      "      dtype='|S6'), array(['4.6', '3.5', '8.5', '3.4', '4.9'], \n",
      "      dtype='|S6'))\n"
     ]
    }
   ],
   "source": [
    "## ejecutar este bloque\n",
    "\n",
    "# comma delimited is the default\n",
    "data = pd.read_csv(\"Data.csv\", header = 0)\n",
    "target = pd.read_csv(\"Target.csv\", header = 0)\n",
    "\n",
    "# put the original column names in a python list\n",
    "original_headers_data = list(data.columns.values)\n",
    "\n",
    "\n",
    "# create a numpy array with the numeric values for input into scikit-learn\n",
    "data = data.as_matrix()\n",
    "target = np.ravel(target.as_matrix())\n",
    "target = np.asarray(target, dtype=\"|S6\")\n",
    "\n",
    "print(\"Data:\\n\", data[:5])\n",
    "print(\"Target:\\n\", target[:5], target[95:100], target[-5:])"
   ]
  },
  {
   "cell_type": "markdown",
   "metadata": {},
   "source": [
    "Podemos ver que los datos de entrenamiento son tuplas de 4 dimensiones, mientras que la clase de cada dato corresponde a un valor 0, 1 o 2. En el campo `DESCR` de la variable `iris` están los detalles del dataset."
   ]
  },
  {
   "cell_type": "code",
   "execution_count": 49,
   "metadata": {
    "collapsed": false
   },
   "outputs": [
    {
     "name": "stdout",
     "output_type": "stream",
     "text": [
      "Iris Plants Database\n",
      "\n",
      "Notes\n",
      "-----\n",
      "Data Set Characteristics:\n",
      "    :Number of Instances: 150 (50 in each of three classes)\n",
      "    :Number of Attributes: 4 numeric, predictive attributes and the class\n",
      "    :Attribute Information:\n",
      "        - sepal length in cm\n",
      "        - sepal width in cm\n",
      "        - petal length in cm\n",
      "        - petal width in cm\n",
      "        - class:\n",
      "                - Iris-Setosa\n",
      "                - Iris-Versicolour\n",
      "                - Iris-Virginica\n",
      "    :Summary Statistics:\n",
      "\n",
      "    ============== ==== ==== ======= ===== ====================\n",
      "                    Min  Max   Mean    SD   Class Correlation\n",
      "    ============== ==== ==== ======= ===== ====================\n",
      "    sepal length:   4.3  7.9   5.84   0.83    0.7826\n",
      "    sepal width:    2.0  4.4   3.05   0.43   -0.4194\n",
      "    petal length:   1.0  6.9   3.76   1.76    0.9490  (high!)\n",
      "    petal width:    0.1  2.5   1.20  0.76     0.9565  (high!)\n",
      "    ============== ==== ==== ======= ===== ====================\n",
      "\n",
      "    :Missing Attribute Values: None\n",
      "    :Class Distribution: 33.3% for each of 3 classes.\n",
      "    :Creator: R.A. Fisher\n",
      "    :Donor: Michael Marshall (MARSHALL%PLU@io.arc.nasa.gov)\n",
      "    :Date: July, 1988\n",
      "\n",
      "This is a copy of UCI ML iris datasets.\n",
      "http://archive.ics.uci.edu/ml/datasets/Iris\n",
      "\n",
      "The famous Iris database, first used by Sir R.A Fisher\n",
      "\n",
      "This is perhaps the best known database to be found in the\n",
      "pattern recognition literature.  Fisher's paper is a classic in the field and\n",
      "is referenced frequently to this day.  (See Duda & Hart, for example.)  The\n",
      "data set contains 3 classes of 50 instances each, where each class refers to a\n",
      "type of iris plant.  One class is linearly separable from the other 2; the\n",
      "latter are NOT linearly separable from each other.\n",
      "\n",
      "References\n",
      "----------\n",
      "   - Fisher,R.A. \"The use of multiple measurements in taxonomic problems\"\n",
      "     Annual Eugenics, 7, Part II, 179-188 (1936); also in \"Contributions to\n",
      "     Mathematical Statistics\" (John Wiley, NY, 1950).\n",
      "   - Duda,R.O., & Hart,P.E. (1973) Pattern Classification and Scene Analysis.\n",
      "     (Q327.D83) John Wiley & Sons.  ISBN 0-471-22361-1.  See page 218.\n",
      "   - Dasarathy, B.V. (1980) \"Nosing Around the Neighborhood: A New System\n",
      "     Structure and Classification Rule for Recognition in Partially Exposed\n",
      "     Environments\".  IEEE Transactions on Pattern Analysis and Machine\n",
      "     Intelligence, Vol. PAMI-2, No. 1, 67-71.\n",
      "   - Gates, G.W. (1972) \"The Reduced Nearest Neighbor Rule\".  IEEE Transactions\n",
      "     on Information Theory, May 1972, 431-433.\n",
      "   - See also: 1988 MLC Proceedings, 54-64.  Cheeseman et al\"s AUTOCLASS II\n",
      "     conceptual clustering system finds 3 classes in the data.\n",
      "   - Many, many more ...\n",
      "\n"
     ]
    }
   ],
   "source": [
    "# ejecutar este bloque para ver el contenido de DESCR\n",
    "# print(iris.DESCR)"
   ]
  },
  {
   "cell_type": "markdown",
   "metadata": {},
   "source": [
    "Si ejecutamos el bloque anterior, podemos ver que el dataset consiste en 150 observaciones y 3 clases, donde cada observación corresponde a 4 características de una flor, sus dimensiones, mientras que la clase corresponde a la especie de la flor (iris-setosa, iris-virginica e iris-versicolor)."
   ]
  },
  {
   "cell_type": "markdown",
   "metadata": {
    "collapsed": true
   },
   "source": [
    "Para evaluar un clasificador, típicamente tenemos 3 formas:\n",
    "\n",
    "1. Entrenamos con los *datos de entrenamiento*, y evaluamos el clasificador en los *datos de entrenamiento*.\n",
    "2. Antes de entrenar, separamos nuestros datos en *datos de entrenamiento* y *datos de prueba*. Entrenamos sobre el primer conjunto y evaluamos el rendimiento del clasificador sobre el segundo.\n",
    "3. Usamos el paso (2), pero separando los datos muchas veces y entrenando y evaluando sobre un conjunto distinto cada vez. Esta forma es llamada *cross-validation*.\n",
    "\n",
    "Llamaremos indistintamente a los *datos de entrenamiento* como el *Training set* y a los *datos de prueba* como el *Test set*."
   ]
  },
  {
   "cell_type": "markdown",
   "metadata": {},
   "source": [
    "## Pregunta 1\n",
    "\n",
    "Vamos a usar el clasificador K-NN (K-Nearest Neighbors), usando distintas formas de evaluación, y vamos a compararlas mediante el Accuracy o Exactitud.\n",
    "\n",
    "### (1) Training Set\n",
    "\n",
    "A continuación vamos a entrenar un clasificador K-NN con todos los datos que tenemos disponibles."
   ]
  },
  {
   "cell_type": "code",
   "execution_count": 91,
   "metadata": {
    "collapsed": false
   },
   "outputs": [
    {
     "data": {
      "text/plain": [
       "KNeighborsClassifier(algorithm='auto', leaf_size=30, metric='minkowski',\n",
       "           metric_params=None, n_jobs=1, n_neighbors=5, p=2,\n",
       "           weights='uniform')"
      ]
     },
     "execution_count": 91,
     "metadata": {},
     "output_type": "execute_result"
    }
   ],
   "source": [
    "## ejecutar este código\n",
    "\n",
    "knn = KNeighborsClassifier(n_neighbors=5)\n",
    "knn.fit(data, target)"
   ]
  },
  {
   "cell_type": "markdown",
   "metadata": {},
   "source": [
    "El método `knn.predict(...)` determina la clase de los datos entregados como parámetro. \n",
    "\n",
    "Por ejemplo si ejecutáramos ```knn.predict([[1.0, 2.0, 3.0, 1.0]])```, le estamos pasando al clasificador un dato con valores `[1.0, 2.0, 3.0, 1.0]`. Al ejecutar `predict`, éste nos retornará un arreglo con el valor `0`, indicando que esos datos fueron clasificados como la clase `0`.\n",
    "\n",
    "**Modifique el código a continuación para determinar el Accuracy del clasificador probando sobre todos los datos de entrenamiento.**\n",
    "\n",
    "### Respuesta (1):"
   ]
  },
  {
   "cell_type": "code",
   "execution_count": 92,
   "metadata": {
    "collapsed": false
   },
   "outputs": [
    {
     "name": "stdout",
     "output_type": "stream",
     "text": [
      "             precision    recall  f1-score   support\n",
      "\n",
      "        1.6       0.33      1.00      0.50         1\n",
      "        1.7       0.17      1.00      0.29         1\n",
      "        1.9       0.14      0.50      0.22         2\n",
      "        2.0       0.15      1.00      0.27         2\n",
      "        2.1       0.16      1.00      0.27         3\n",
      "        2.2       0.14      1.00      0.25         1\n",
      "        2.3       0.50      0.33      0.40         3\n",
      "        2.4       0.17      1.00      0.29         2\n",
      "        2.5       0.14      1.00      0.25         1\n",
      "        2.6       0.17      1.00      0.29         1\n",
      "        2.7       0.25      0.60      0.35         5\n",
      "        2.8       0.14      0.80      0.24         5\n",
      "        2.9       0.11      0.33      0.17         3\n",
      "        3.0       0.19      1.00      0.32         3\n",
      "        3.1       0.18      0.75      0.29         4\n",
      "        3.2       1.00      1.00      1.00         1\n",
      "        3.3       0.18      0.64      0.29        11\n",
      "        3.4       0.21      0.50      0.30         6\n",
      "        3.5       0.16      0.40      0.23        10\n",
      "        3.6       0.21      0.58      0.30        12\n",
      "        3.7       0.21      0.83      0.33         6\n",
      "        3.8       0.18      0.69      0.29        13\n",
      "        3.9       0.26      0.82      0.39        11\n",
      "        4.0       0.11      0.33      0.17        12\n",
      "        4.1       0.17      0.70      0.28        20\n",
      "        4.2       0.17      0.53      0.25        17\n",
      "        4.3       0.19      0.61      0.29        23\n",
      "        4.4       0.14      0.35      0.20        23\n",
      "        4.5       0.18      0.58      0.28        24\n",
      "        4.6       0.19      0.41      0.26        37\n",
      "        4.7       0.13      0.42      0.20        24\n",
      "        4.8       0.19      0.44      0.27        39\n",
      "        4.9       0.20      0.51      0.28        47\n",
      "        5.0       0.22      0.43      0.29        35\n",
      "        5.1       0.22      0.40      0.29        63\n",
      "        5.2       0.21      0.48      0.29        63\n",
      "        5.3       0.20      0.31      0.24        80\n",
      "        5.4       0.17      0.36      0.23        90\n",
      "        5.5       0.24      0.39      0.29        85\n",
      "        5.6       0.18      0.34      0.23       106\n",
      "        5.7       0.20      0.41      0.27       105\n",
      "        5.8       0.22      0.30      0.25       111\n",
      "        5.9       0.24      0.34      0.28       136\n",
      "        6.0       0.21      0.26      0.23       112\n",
      "        6.1       0.24      0.26      0.25       163\n",
      "        6.2       0.26      0.24      0.25       161\n",
      "        6.3       0.26      0.23      0.25       160\n",
      "        6.4       0.29      0.27      0.28       171\n",
      "        6.5       0.26      0.17      0.20       177\n",
      "        6.6       0.29      0.18      0.23       184\n",
      "        6.7       0.31      0.18      0.23       201\n",
      "        6.8       0.32      0.16      0.21       167\n",
      "        6.9       0.29      0.14      0.19       156\n",
      "        7.0       0.31      0.13      0.18       163\n",
      "        7.1       0.34      0.15      0.21       163\n",
      "        7.2       0.36      0.17      0.23       168\n",
      "        7.3       0.39      0.16      0.23       166\n",
      "        7.4       0.39      0.12      0.18       128\n",
      "        7.5       0.32      0.08      0.12       117\n",
      "        7.6       0.35      0.16      0.22       114\n",
      "        7.7       0.27      0.03      0.05       102\n",
      "        7.8       0.37      0.08      0.13        91\n",
      "        7.9       0.50      0.07      0.12        61\n",
      "        8.0       0.43      0.14      0.22        70\n",
      "        8.1       0.58      0.12      0.20        59\n",
      "        8.2       0.25      0.03      0.06        31\n",
      "        8.3       0.75      0.09      0.16        34\n",
      "        8.4       0.33      0.04      0.08        23\n",
      "        8.5       0.33      0.10      0.15        21\n",
      "        8.6       0.00      0.00      0.00        11\n",
      "        8.7       0.00      0.00      0.00         9\n",
      "        8.8       0.00      0.00      0.00         5\n",
      "        8.9       1.00      0.20      0.33         5\n",
      "        9.0       0.00      0.00      0.00         2\n",
      "        9.2       0.00      0.00      0.00         1\n",
      "        9.3       0.00      0.00      0.00         1\n",
      "\n",
      "avg / total       0.29      0.23      0.22      4444\n",
      "\n"
     ]
    }
   ],
   "source": [
    "### COMPLETAR ACÁ\n",
    "\n",
    "target_pred = knn.predict(data)\n",
    "accuracy_score(target, target_pred)\n",
    "\n",
    "print(classification_report(target, target_pred))"
   ]
  },
  {
   "cell_type": "markdown",
   "metadata": {},
   "source": [
    "### (2) Test Set\n",
    "\n",
    "La función `cross_validation.train_test_split(X, y, test_size=p, random_state=N)` divide los arreglos `X` e `y` en dos arreglos, haciendo un muestreo de sus datos de forma consistente para generar un dataset de entrenamiento y otro de pruebas; `test_size` indica la fracción del total para asignar el tamaño del conjunto de pruebas. El parámetro `random_state` sirve para tener resultados consistentes tras cada ejecución.\n"
   ]
  },
  {
   "cell_type": "code",
   "execution_count": 39,
   "metadata": {
    "collapsed": false
   },
   "outputs": [],
   "source": [
    "## ejecutar este código\n",
    "\n",
    "X_train, X_test, y_train, y_test = cross_validation.train_test_split(X, y, test_size=0.33, random_state=37)"
   ]
  },
  {
   "cell_type": "markdown",
   "metadata": {},
   "source": [
    "**Escriba el código necesario para determinar el Accuracy del clasificador, esta vez entrenando sobre el Training set y probando sobre el Test set.**\n",
    "\n",
    "### Respuesta (2):"
   ]
  },
  {
   "cell_type": "code",
   "execution_count": 40,
   "metadata": {
    "collapsed": false
   },
   "outputs": [
    {
     "name": "stdout",
     "output_type": "stream",
     "text": [
      "             precision    recall  f1-score   support\n",
      "\n",
      "          0       1.00      1.00      1.00        17\n",
      "          1       1.00      0.93      0.96        14\n",
      "          2       0.95      1.00      0.97        19\n",
      "\n",
      "avg / total       0.98      0.98      0.98        50\n",
      "\n"
     ]
    }
   ],
   "source": [
    "### COMPLETAR ACÁ\n",
    "\n",
    "knn = KNeighborsClassifier(n_neighbors=5)\n",
    "knn.fit(X_train, y_train)\n",
    "y_pred = knn.predict(X_test)\n",
    "accuracy_score(y_test, y_pred)\n",
    "\n",
    "print(classification_report(y_test, y_pred))"
   ]
  },
  {
   "cell_type": "markdown",
   "metadata": {},
   "source": [
    "### (3) Cross-validation\n",
    "\n",
    "Con cross-validation, el conjunto de entrenamiento se divide en $k$ conjuntos disjuntos; se entrena sobre los datos correspondientes a $k-1$ de éstos, y se evalúa sobre el conjunto restante. Esto se repite $k$ veces, evaluando siempre sobre un conjunto distinto. Teniendo en cuenta el parámetro $k$, a éste método se le llama $k$-fold cross-validation.\n"
   ]
  },
  {
   "cell_type": "code",
   "execution_count": 41,
   "metadata": {
    "collapsed": false
   },
   "outputs": [
    {
     "data": {
      "text/plain": [
       "array([ 0.96666667,  1.        ,  0.93333333,  0.96666667,  1.        ])"
      ]
     },
     "execution_count": 41,
     "metadata": {},
     "output_type": "execute_result"
    }
   ],
   "source": [
    "## ejecutar este código\n",
    "\n",
    "cross_validation.cross_val_score(knn, X, y, cv=5)"
   ]
  },
  {
   "cell_type": "markdown",
   "metadata": {},
   "source": [
    "El código anterior va a realizar 5-fold cross-validation usando el clasificador K-NN sobre los datos. Después se puede tomar el promedio y el intervalo de confianza de los resultados para tener otra medida de rendimiendo del clasificador. \n",
    "\n",
    "(Por defecto, `cross_val_score` llama al método `score` del clasificador, el cual en este caso es el Accuracy. Es posible cambiar la métrica en los parámetros de `cross_val_score`.)\n",
    "\n",
    "**¿Por qué es necesario usar cross-validation? O bien, ¿en qué casos cree que es mejor que sólo separar los datos en Training Set y Test Set?**\n",
    "\n",
    "Para ilustrar el problema, pruebe cambiando el valor del parámetro `random_state` en el siguiente código y determine el Accuracy del clasificador resultante con cada valor de `random_state` escogido:"
   ]
  },
  {
   "cell_type": "code",
   "execution_count": 42,
   "metadata": {
    "collapsed": false
   },
   "outputs": [
    {
     "name": "stdout",
     "output_type": "stream",
     "text": [
      "             precision    recall  f1-score   support\n",
      "\n",
      "          0       1.00      1.00      1.00        16\n",
      "          1       1.00      0.90      0.95        20\n",
      "          2       0.88      1.00      0.93        14\n",
      "\n",
      "avg / total       0.96      0.96      0.96        50\n",
      "\n",
      "             precision    recall  f1-score   support\n",
      "\n",
      "          0       1.00      1.00      1.00        18\n",
      "          1       0.94      0.94      0.94        18\n",
      "          2       0.93      0.93      0.93        14\n",
      "\n",
      "avg / total       0.96      0.96      0.96        50\n",
      "\n"
     ]
    }
   ],
   "source": [
    "## modificar acá\n",
    "\n",
    "X_train, X_test, y_train, y_test = cross_validation.train_test_split(X, y, test_size=0.33, random_state=75)\n",
    "\n",
    "knn = KNeighborsClassifier(n_neighbors=5)\n",
    "knn.fit(X_train, y_train)\n",
    "y_pred = knn.predict(X_test)\n",
    "accuracy_score(y_test, y_pred)\n",
    "\n",
    "print(classification_report(y_test, y_pred))\n",
    "\n",
    "X_train, X_test, y_train, y_test = cross_validation.train_test_split(X, y, test_size=0.33, random_state=715)\n",
    "\n",
    "knn = KNeighborsClassifier(n_neighbors=5)\n",
    "knn.fit(X_train, y_train)\n",
    "y_pred = knn.predict(X_test)\n",
    "accuracy_score(y_test, y_pred)\n",
    "\n",
    "print(classification_report(y_test, y_pred))"
   ]
  },
  {
   "cell_type": "markdown",
   "metadata": {},
   "source": [
    "### Respuesta (3):"
   ]
  },
  {
   "cell_type": "markdown",
   "metadata": {},
   "source": [
    "Es necesario usar Cross-Validation debido a que los resultados de accuracy para cada predicción pueden variar dependiendo de la random seed que se use. En este sentido, es más confiable realizar la predicción varias veces con distinta random seed y utilizar un promedio o determinar un error asociado que nos puede informar de situaciones de overfitting por ejemplo. "
   ]
  },
  {
   "cell_type": "markdown",
   "metadata": {},
   "source": [
    "## Pregunta 2\n",
    "\n",
    "Imagine que tenemos un dataset sobre el cual queremos entrenar un buen clasificador. Para esto, usamos cross-validation como forma de evaluación. Usamos cientos, miles de distintos modelos sobre nuestros datos, hasta encontrar el modelo que obtenga los mejores resultados sobre el dataset. ¿Qué se puede esperar en términos de rendimiento al aplicar el modelo final sobre datos no vistos anteriormente? ¿Cómo asocia esta situación al Overfitting? Proponga una mejor forma de estimar el rendimiento del modelo final."
   ]
  },
  {
   "cell_type": "markdown",
   "metadata": {},
   "source": [
    "### Respuesta:"
   ]
  },
  {
   "cell_type": "markdown",
   "metadata": {},
   "source": [
    "En primer lugar, si se usan demasiados modelos sobre los datos, es decir, se hace cross validation demasiadas veces, además de afectar el rendimiento global del clasificador ya que se está ejecutando muchas veces, se pierde la credibilidad de éste debido a que se produce overfitting puesto que puede que el modelo se esté ajustando demasiado a un caso en específico. Idealmente, hay que evitar el Underfitting y el Overfitting, buscando un punto intermedio entre estos. Es decir, no hay que hacer ni muy pocas iteraciones ni demasiadas. Una buena forma de estimar un buen rendimiento, es verificar el porcentaje de error en el Test Set al clasficar. Si luego de n iteraciones del cross validation este porcentaje empieza a aumentar, entonces ya se hicieron suficientes iteraciones y se tiene un modelo decente."
   ]
  },
  {
   "cell_type": "markdown",
   "metadata": {},
   "source": [
    "## Parte 2: Métricas de evaluación\n",
    "\n",
    "## Pregunta 3\n",
    "\n",
    "**(a)** Dada la siguiente matriz de confusión, determine **Accuracy**, **Precision**, **Recall**, $F_{1}$ **-score** por cada clase, y cantidad de **Falsos Positivos** y **Falsos Negativos**. Puede escribir un código que entregue la respuesta, o sólo escribir cómo llegó al resultado, además de la respuesta."
   ]
  },
  {
   "cell_type": "markdown",
   "metadata": {},
   "source": [
    "| A  | B  | C  | ← clasificado como / clase real ↓ |\n",
    "|:----:|:----:|:----:|--------------------:|\n",
    "| 21 | 2  | 4  |              **A** |\n",
    "| 0  | 7  | 2  |              **B** |\n",
    "| 2  | 15 | 27 |              **C** |"
   ]
  },
  {
   "cell_type": "markdown",
   "metadata": {},
   "source": [
    "### Respuesta (a)"
   ]
  },
  {
   "cell_type": "code",
   "execution_count": 46,
   "metadata": {
    "collapsed": false
   },
   "outputs": [
    {
     "name": "stdout",
     "output_type": "stream",
     "text": [
      "Clase A:\n",
      "Accuracy = 0.9\n",
      "Precision = 0.913043478261\n",
      "Recall = 0.777777777778\n",
      "F1-Score = 0.84\n",
      "\n",
      "Clase B:\n",
      "Accuracy = 0.7625\n",
      "Precision = 0.291666666667\n",
      "Recall = 0.777777777778\n",
      "F1-Score = 0.424242424242\n",
      "\n",
      "Clase C:\n",
      "Accuracy = 0.7125\n",
      "Precision = 0.818181818182\n",
      "Recall = 0.613636363636\n",
      "F1-Score = 0.701298701299\n",
      "\n"
     ]
    }
   ],
   "source": [
    "def precision(TP, FP):\n",
    "    return TP/(TP+FP)\n",
    "    \n",
    "def recall(TP, FN):\n",
    "    return TP/(TP+FN)\n",
    "    \n",
    "def F1(TP, FP, FN):\n",
    "    return 2*(precision(TP, FP))*(recall(TP, FN))/((precision(TP, FP))+(recall(TP, FN)))\n",
    "    \n",
    "def accuracy(corr, tot):\n",
    "    return corr/tot\n",
    "\n",
    "print(\"Clase A:\" + \"\\n\" + \"Accuracy = \" + str(accuracy(72., 80.)) + \"\\n\" +\n",
    "     \"Precision = \" + str(precision(21., 2.)) + \"\\n\" + \n",
    "     \"Recall = \" + str(recall(21., 6.)) + \"\\n\" +\n",
    "     \"F1-Score = \" + str(F1(21., 2., 6.)) + \"\\n\")\n",
    "\n",
    "print(\"Clase B:\" + \"\\n\" + \"Accuracy = \" + str(accuracy(61., 80.)) + \"\\n\" +\n",
    "     \"Precision = \" + str(precision(7., 17.)) + \"\\n\" + \n",
    "     \"Recall = \" + str(recall(7., 2.)) + \"\\n\" +\n",
    "     \"F1-Score = \" + str(F1(7., 17., 2.)) + \"\\n\")\n",
    "\n",
    "print(\"Clase C:\" + \"\\n\" + \"Accuracy = \" + str(accuracy(57., 80.)) + \"\\n\" +\n",
    "     \"Precision = \" + str(precision(27., 6.)) + \"\\n\" + \n",
    "     \"Recall = \" + str(recall(27., 17.)) + \"\\n\" +\n",
    "     \"F1-Score = \" + str(F1(27., 6., 17.)) + \"\\n\")\n"
   ]
  },
  {
   "cell_type": "markdown",
   "metadata": {},
   "source": [
    "**(b)** Dé un ejemplo de escenario de clasificación en el cual sea más conveniente apuntar por un mayor **Recall** que por **Precision**. "
   ]
  },
  {
   "cell_type": "markdown",
   "metadata": {},
   "source": [
    "### Respuesta (b)"
   ]
  },
  {
   "cell_type": "markdown",
   "metadata": {
    "collapsed": true
   },
   "source": [
    "Un ejemplo claro consiste en tener un clasificador que diga positivo cuando una persona tiene cáncer y negativo cuando no tiene. Tomando esto en cuenta, un Falso Positivo es decirle a una persona que tiene cáncer cuando en realidad esa persona no tiene; mientras que un Falso Negativo es decirle a una persona que no tiene cáncer cuando en realidad sí lo tiene, lo que claramente es peor que el primer caso. Entonces, en este caso es conveniente tener un mayor Recall ya que significaría que hubo menos Falsos Negativos (no le dije a tantas personas que no tenían cáncer cuando sí tenían), en cambio no es \"tan malo\" tener más Falsos Positivos ya que no es tan terrible decirle a una persona que sí tenía cuando en realidad no lo tiene."
   ]
  },
  {
   "cell_type": "markdown",
   "metadata": {},
   "source": [
    "## (Bonus) Parte 3: Selección de modelo\n",
    "\n",
    "Un uso práctico de cross-validation es el elegir el clasificador más conveniente para los datos.\n",
    "\n",
    "Vamos a usar el dataset de cáncer de mamas:"
   ]
  },
  {
   "cell_type": "code",
   "execution_count": 47,
   "metadata": {
    "collapsed": false
   },
   "outputs": [],
   "source": [
    "breast = load_breast_cancer()\n",
    "\n",
    "X = breast.data\n",
    "y = breast.target"
   ]
  },
  {
   "cell_type": "code",
   "execution_count": 48,
   "metadata": {
    "collapsed": false
   },
   "outputs": [
    {
     "name": "stdout",
     "output_type": "stream",
     "text": [
      "Breast Cancer Wisconsin (Diagnostic) Database\n",
      "\n",
      "Notes\n",
      "-----\n",
      "Data Set Characteristics:\n",
      "    :Number of Instances: 569\n",
      "\n",
      "    :Number of Attributes: 30 numeric, predictive attributes and the class\n",
      "\n",
      "    :Attribute Information:\n",
      "        - radius (mean of distances from center to points on the perimeter)\n",
      "        - texture (standard deviation of gray-scale values)\n",
      "        - perimeter\n",
      "        - area\n",
      "        - smoothness (local variation in radius lengths)\n",
      "        - compactness (perimeter^2 / area - 1.0)\n",
      "        - concavity (severity of concave portions of the contour)\n",
      "        - concave points (number of concave portions of the contour)\n",
      "        - symmetry \n",
      "        - fractal dimension (\"coastline approximation\" - 1)\n",
      "        \n",
      "        The mean, standard error, and \"worst\" or largest (mean of the three\n",
      "        largest values) of these features were computed for each image,\n",
      "        resulting in 30 features.  For instance, field 3 is Mean Radius, field\n",
      "        13 is Radius SE, field 23 is Worst Radius.\n",
      "        \n",
      "        - class:\n",
      "                - WDBC-Malignant\n",
      "                - WDBC-Benign\n",
      "\n",
      "    :Summary Statistics:\n",
      "\n",
      "    ===================================== ======= ========\n",
      "                                           Min     Max\n",
      "    ===================================== ======= ========\n",
      "    radius (mean):                         6.981   28.11\n",
      "    texture (mean):                        9.71    39.28\n",
      "    perimeter (mean):                      43.79   188.5\n",
      "    area (mean):                           143.5   2501.0\n",
      "    smoothness (mean):                     0.053   0.163\n",
      "    compactness (mean):                    0.019   0.345\n",
      "    concavity (mean):                      0.0     0.427\n",
      "    concave points (mean):                 0.0     0.201\n",
      "    symmetry (mean):                       0.106   0.304\n",
      "    fractal dimension (mean):              0.05    0.097\n",
      "    radius (standard error):               0.112   2.873\n",
      "    texture (standard error):              0.36    4.885\n",
      "    perimeter (standard error):            0.757   21.98\n",
      "    area (standard error):                 6.802   542.2\n",
      "    smoothness (standard error):           0.002   0.031\n",
      "    compactness (standard error):          0.002   0.135\n",
      "    concavity (standard error):            0.0     0.396\n",
      "    concave points (standard error):       0.0     0.053\n",
      "    symmetry (standard error):             0.008   0.079\n",
      "    fractal dimension (standard error):    0.001   0.03\n",
      "    radius (worst):                        7.93    36.04\n",
      "    texture (worst):                       12.02   49.54\n",
      "    perimeter (worst):                     50.41   251.2\n",
      "    area (worst):                          185.2   4254.0\n",
      "    smoothness (worst):                    0.071   0.223\n",
      "    compactness (worst):                   0.027   1.058\n",
      "    concavity (worst):                     0.0     1.252\n",
      "    concave points (worst):                0.0     0.291\n",
      "    symmetry (worst):                      0.156   0.664\n",
      "    fractal dimension (worst):             0.055   0.208\n",
      "    ===================================== ======= ========\n",
      "\n",
      "    :Missing Attribute Values: None\n",
      "\n",
      "    :Class Distribution: 212 - Malignant, 357 - Benign\n",
      "\n",
      "    :Creator:  Dr. William H. Wolberg, W. Nick Street, Olvi L. Mangasarian\n",
      "\n",
      "    :Donor: Nick Street\n",
      "\n",
      "    :Date: November, 1995\n",
      "\n",
      "This is a copy of UCI ML Breast Cancer Wisconsin (Diagnostic) datasets.\n",
      "https://goo.gl/U2Uwz2\n",
      "\n",
      "Features are computed from a digitized image of a fine needle\n",
      "aspirate (FNA) of a breast mass.  They describe\n",
      "characteristics of the cell nuclei present in the image.\n",
      "A few of the images can be found at\n",
      "http://www.cs.wisc.edu/~street/images/\n",
      "\n",
      "Separating plane described above was obtained using\n",
      "Multisurface Method-Tree (MSM-T) [K. P. Bennett, \"Decision Tree\n",
      "Construction Via Linear Programming.\" Proceedings of the 4th\n",
      "Midwest Artificial Intelligence and Cognitive Science Society,\n",
      "pp. 97-101, 1992], a classification method which uses linear\n",
      "programming to construct a decision tree.  Relevant features\n",
      "were selected using an exhaustive search in the space of 1-4\n",
      "features and 1-3 separating planes.\n",
      "\n",
      "The actual linear program used to obtain the separating plane\n",
      "in the 3-dimensional space is that described in:\n",
      "[K. P. Bennett and O. L. Mangasarian: \"Robust Linear\n",
      "Programming Discrimination of Two Linearly Inseparable Sets\",\n",
      "Optimization Methods and Software 1, 1992, 23-34].\n",
      "\n",
      "This database is also available through the UW CS ftp server:\n",
      "\n",
      "ftp ftp.cs.wisc.edu\n",
      "cd math-prog/cpo-dataset/machine-learn/WDBC/\n",
      "\n",
      "References\n",
      "----------\n",
      "   - W.N. Street, W.H. Wolberg and O.L. Mangasarian. Nuclear feature extraction \n",
      "     for breast tumor diagnosis. IS&T/SPIE 1993 International Symposium on \n",
      "     Electronic Imaging: Science and Technology, volume 1905, pages 861-870, \n",
      "     San Jose, CA, 1993. \n",
      "   - O.L. Mangasarian, W.N. Street and W.H. Wolberg. Breast cancer diagnosis and \n",
      "     prognosis via linear programming. Operations Research, 43(4), pages 570-577, \n",
      "     July-August 1995.\n",
      "   - W.H. Wolberg, W.N. Street, and O.L. Mangasarian. Machine learning techniques\n",
      "     to diagnose breast cancer from fine-needle aspirates. Cancer Letters 77 (1994) \n",
      "     163-171.\n",
      "\n"
     ]
    }
   ],
   "source": [
    "print(breast.DESCR)"
   ]
  },
  {
   "cell_type": "markdown",
   "metadata": {},
   "source": [
    "Determinaremos el valor de $K$ en el clasificador K-NN que entregue mejor Precision.\n",
    "\n",
    "Para esto, use el promedio del Precision en cross-validation con 10 folds para cada valor de $K$ y grafique los resultados en `matplotlib`."
   ]
  },
  {
   "cell_type": "code",
   "execution_count": 49,
   "metadata": {
    "collapsed": false
   },
   "outputs": [],
   "source": [
    "### COMPLETAR ACÁ\n",
    "\n",
    "cv_scores = list()\n",
    "k_range = range(1, 50)\n",
    "\n",
    "for k in k_range:\n",
    "    folds = list()\n",
    "    X_train, X_test, y_train, y_test = cross_validation.train_test_split(X, y, test_size=0.33, random_state=8)\n",
    "    knn = KNeighborsClassifier(n_neighbors=k)\n",
    "    knn.fit(X_train, y_train)\n",
    "    folds = cross_validation.cross_val_score(knn, X, y, cv=10, scoring='precision')\n",
    "    cv_scores.append(float(sum(folds))/len(folds))\n"
   ]
  },
  {
   "cell_type": "code",
   "execution_count": 50,
   "metadata": {
    "collapsed": false
   },
   "outputs": [
    {
     "data": {
      "text/plain": [
       "<matplotlib.text.Text at 0xb2b7ac8>"
      ]
     },
     "execution_count": 50,
     "metadata": {},
     "output_type": "execute_result"
    },
    {
     "data": {
      "image/png": "[encoded data removed]",
      "text/plain": [
       "<matplotlib.figure.Figure at 0xaf98a58>"
      ]
     },
     "metadata": {},
     "output_type": "display_data"
    }
   ],
   "source": [
    "## ejecutar este código al terminar el bloque anterior\n",
    "\n",
    "import matplotlib.pyplot as plt\n",
    "%matplotlib inline\n",
    "\n",
    "plt.plot(k_range, cv_scores)\n",
    "plt.ylabel(\"precision\")\n",
    "plt.xlabel(\"K-nearest neighbors\")"
   ]
  },
  {
   "cell_type": "code",
   "execution_count": null,
   "metadata": {
    "collapsed": true
   },
   "outputs": [],
   "source": []
  }
 ],
 "metadata": {
  "anaconda-cloud": {},
  "kernelspec": {
   "display_name": "Python [conda root]",
   "language": "python",
   "name": "conda-root-py"
  },
  "language_info": {
   "codemirror_mode": {
    "name": "ipython",
    "version": 2
   },
   "file_extension": ".py",
   "mimetype": "text/x-python",
   "name": "python",
   "nbconvert_exporter": "python",
   "pygments_lexer": "ipython2",
   "version": "2.7.12"
  }
 },
 "nbformat": 4,
 "nbformat_minor": 1
}
