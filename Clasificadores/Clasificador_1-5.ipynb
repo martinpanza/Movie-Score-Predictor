{
 "cells": [
  {
   "cell_type": "markdown",
   "metadata": {},
   "source": [
    "# Primer Intento de clasificador\n",
    "\n"
   ]
  },
  {
   "cell_type": "markdown",
   "metadata": {},
   "source": [
    "Como el titulo lo dice, primer intento de clasificador usando como referencia el laboratorio x .\n",
    "Se considera para este caso el archivo movies_final_imdb el cual contiene:\n",
    "    \n",
    "    movieId+nota_imbd_aprox+duracion+categoria+actores\n",
    "    \n",
    "    \n",
    "Nota : Falta agregar los directores y quizas las fechas para ve como cambia. "
   ]
  },
  {
   "cell_type": "code",
   "execution_count": 31,
   "metadata": {
    "collapsed": true
   },
   "outputs": [],
   "source": [
    "## Librerias\n",
    "import csv\n",
    "import numpy as np\n",
    "import pandas as pd\n",
    "from sklearn.metrics import accuracy_score, precision_score, recall_score\n",
    "from sklearn.metrics import confusion_matrix, classification_report\n",
    "from sklearn.utils import shuffle\n",
    "\n",
    "# Clasificadores usados : Tree, SVM, RandomForest, Regression, KNN.\n",
    "from sklearn import tree\n",
    "from sklearn import svm\n",
    "from sklearn.ensemble import RandomForestClassifier\n",
    "from sklearn import linear_model\n",
    "from sklearn.neighbors import KNeighborsClassifier\n",
    "\n",
    "\n",
    "from sklearn import cross_validation"
   ]
  },
  {
   "cell_type": "markdown",
   "metadata": {},
   "source": [
    "Cargamos el archivo "
   ]
  },
  {
   "cell_type": "code",
   "execution_count": 5,
   "metadata": {
    "collapsed": false
   },
   "outputs": [],
   "source": [
    "#Cargamos el Archivo.\n",
    "\n",
    "movies = pd.read_csv(\"movies_final.csv\", header = 0)\n",
    "score = pd.read_csv(\"movielens.csv\", header = 0)\n",
    "\n",
    "movies_header = list(movies.columns.values)\n",
    "\n",
    "movies = movies.as_matrix()\n",
    "\n",
    "\n",
    "\n",
    "score = np.ravel(score.as_matrix())\n",
    "movies = movies[0:4000]\n",
    "score = score[0:4000]\n",
    "\n",
    "\n",
    "#score = np.asarray(score, dtype=\"|S6\")\n",
    "#print(\"Movies:\\n\", movies[4451])\n",
    "#print(\"Score:\\n\", score[4451])\n",
    "#print(movies_header)\n",
    "\n",
    "\n"
   ]
  },
  {
   "cell_type": "markdown",
   "metadata": {},
   "source": [
    "# KNN basico\n",
    "\n"
   ]
  },
  {
   "cell_type": "code",
   "execution_count": 6,
   "metadata": {
    "collapsed": false
   },
   "outputs": [
    {
     "name": "stdout",
     "output_type": "stream",
     "text": [
      "             precision    recall  f1-score   support\n",
      "\n",
      "        1.0       0.00      0.00      0.00        12\n",
      "        2.0       0.50      0.17      0.25       392\n",
      "        3.0       0.68      0.85      0.76      2350\n",
      "        4.0       0.65      0.48      0.55      1246\n",
      "\n",
      "avg / total       0.65      0.67      0.64      4000\n",
      "\n"
     ]
    },
    {
     "name": "stderr",
     "output_type": "stream",
     "text": [
      "/home/pablo/anaconda2/lib/python2.7/site-packages/sklearn/metrics/classification.py:1074: UndefinedMetricWarning: Precision and F-score are ill-defined and being set to 0.0 in labels with no predicted samples.\n",
      "  'precision', 'predicted', average, warn_for)\n"
     ]
    }
   ],
   "source": [
    "# Primer Clasificador : K-nearnest-neighbors\n",
    "\n",
    "knn = KNeighborsClassifier(n_neighbors=10)\n",
    "knn.fit(movies, score)\n",
    "score_pred = knn.predict(movies)\n",
    "accuracy_score(score, score_pred)\n",
    "\n",
    "print(classification_report(score,score_pred))"
   ]
  },
  {
   "cell_type": "markdown",
   "metadata": {},
   "source": [
    "## KNN manual\n"
   ]
  },
  {
   "cell_type": "code",
   "execution_count": 7,
   "metadata": {
    "collapsed": false
   },
   "outputs": [
    {
     "name": "stdout",
     "output_type": "stream",
     "text": [
      "             precision    recall  f1-score   support\n",
      "\n",
      "        1.0       0.00      0.00      0.00         4\n",
      "        2.0       0.31      0.26      0.28       141\n",
      "        3.0       0.62      0.70      0.66       785\n",
      "        4.0       0.44      0.37      0.40       390\n",
      "\n",
      "avg / total       0.54      0.55      0.54      1320\n",
      "\n"
     ]
    }
   ],
   "source": [
    "# Primer Clasificador : K-nearnest-neighbors\n",
    "\n",
    "\n",
    "X_train, X_test, y_train, y_test = cross_validation.train_test_split(movies, score, test_size=0.33, random_state=37)\n",
    "\n",
    "knn = KNeighborsClassifier(n_neighbors=5)\n",
    "knn.fit(X_train, y_train)\n",
    "y_pred = knn.predict(X_test)\n",
    "accuracy_score(y_test, y_pred)\n",
    "\n",
    "print(classification_report(y_test, y_pred))\n"
   ]
  },
  {
   "cell_type": "markdown",
   "metadata": {},
   "source": [
    "## KNN - Cross Validation"
   ]
  },
  {
   "cell_type": "code",
   "execution_count": 8,
   "metadata": {
    "collapsed": false
   },
   "outputs": [
    {
     "data": {
      "text/plain": [
       "array([ 0.56965174,  0.54477612,  0.5075    ,  0.575     ,  0.5725    ,\n",
       "        0.56      ,  0.55639098,  0.51629073,  0.56390977,  0.58646617])"
      ]
     },
     "execution_count": 8,
     "metadata": {},
     "output_type": "execute_result"
    }
   ],
   "source": [
    "cross_validation.cross_val_score(knn, movies, score, cv=10)\n"
   ]
  },
  {
   "cell_type": "markdown",
   "metadata": {},
   "source": [
    "Mejora al momento de reducir las clases"
   ]
  },
  {
   "cell_type": "markdown",
   "metadata": {},
   "source": [
    "# Support Vector Machine - SVM"
   ]
  },
  {
   "cell_type": "code",
   "execution_count": 11,
   "metadata": {
    "collapsed": false
   },
   "outputs": [
    {
     "name": "stdout",
     "output_type": "stream",
     "text": [
      "             precision    recall  f1-score   support\n",
      "\n",
      "        1.0       0.00      0.00      0.00        12\n",
      "        2.0       0.00      0.00      0.00       392\n",
      "        3.0       0.61      0.94      0.74      2350\n",
      "        4.0       0.62      0.19      0.30      1246\n",
      "\n",
      "avg / total       0.55      0.61      0.53      4000\n",
      "\n"
     ]
    }
   ],
   "source": [
    "\n",
    "movies_svm = svm.SVC()\n",
    "movies_svm.fit(movies, score)  \n",
    "\n",
    "score_pred = movies_svm.predict(movies)\n",
    "accuracy_score(score, score_pred)\n",
    "\n",
    "print(classification_report(score,score_pred))\n"
   ]
  },
  {
   "cell_type": "markdown",
   "metadata": {},
   "source": [
    "## SVM con Cross-Validation"
   ]
  },
  {
   "cell_type": "code",
   "execution_count": 14,
   "metadata": {
    "collapsed": false
   },
   "outputs": [
    {
     "data": {
      "text/plain": [
       "array([ 0.62674651,  0.61676647,  0.59680639,  0.60479042,  0.598     ,\n",
       "        0.602     ,  0.60240964,  0.61646586])"
      ]
     },
     "execution_count": 14,
     "metadata": {},
     "output_type": "execute_result"
    }
   ],
   "source": [
    "svm_cross = svm.SVC()\n",
    "cross_validation.cross_val_score(svm_cross, movies, score, cv=8)\n",
    "\n",
    "# cv = 3\n",
    "# array([ 0.60973783,  0.6024006 ,  0.60735736])\n",
    "\n",
    "\n",
    "#cv = 5\n",
    "# array([ 0.62967581,  0.59925094,  0.60450563,  0.59574468,  0.61451815])\n",
    "\n",
    "#cv = 8\n",
    "# array([ 0.62674651,  0.61676647,  0.59680639,  0.60479042,  0.598     ,\n",
    "        0.602     ,  0.60240964,  0.61646586])\n",
    "\n",
    "#cv = 2\n",
    "# array([ 0.6095,  0.6025])\n"
   ]
  },
  {
   "cell_type": "markdown",
   "metadata": {},
   "source": [
    "## SVM test set manual"
   ]
  },
  {
   "cell_type": "code",
   "execution_count": 16,
   "metadata": {
    "collapsed": false
   },
   "outputs": [
    {
     "data": {
      "text/plain": [
       "0.60999999999999999"
      ]
     },
     "execution_count": 16,
     "metadata": {},
     "output_type": "execute_result"
    }
   ],
   "source": [
    "X_train, X_test, y_train, y_test = cross_validation.train_test_split(movies, score, test_size=0.5)\n",
    "#, random_state=37\n",
    "\n",
    "svm_manual = svm.SVC()\n",
    "svm_manual.fit(X_train, y_train)\n",
    "y_pred = svm_manual.predict(X_test)\n",
    "accuracy_score(y_test, y_pred)\n",
    "\n",
    "\n",
    "# test_size = 0.5\n",
    "# 0.60999999999999999\n",
    "\n",
    "#test_size = 0.3\n",
    "# 0.62045454545454548\n",
    "\n"
   ]
  },
  {
   "cell_type": "code",
   "execution_count": 23,
   "metadata": {
    "collapsed": false
   },
   "outputs": [
    {
     "name": "stdout",
     "output_type": "stream",
     "text": [
      "\n",
      "\n",
      "Nota original de toy-story : \n",
      "4.0\n",
      "Prediccion de nota para toy story:\n"
     ]
    },
    {
     "data": {
      "text/plain": [
       "array([ 3.])"
      ]
     },
     "execution_count": 23,
     "metadata": {},
     "output_type": "execute_result"
    }
   ],
   "source": [
    "#predict toy_story\n",
    "toy_story = movies[0]\n",
    "print \"\\n\\nNota original de toy-story : \"\n",
    "print score[0]\n",
    "#print toy_story\n",
    "print \"Prediccion de nota para toy story:\"\n",
    "svm_manual.predict([movies[0]])"
   ]
  },
  {
   "cell_type": "markdown",
   "metadata": {},
   "source": [
    "No Acertó :("
   ]
  },
  {
   "cell_type": "markdown",
   "metadata": {
    "collapsed": true
   },
   "source": [
    "# Random Forest"
   ]
  },
  {
   "cell_type": "markdown",
   "metadata": {},
   "source": [
    "## Random forest con cross validation."
   ]
  },
  {
   "cell_type": "code",
   "execution_count": 25,
   "metadata": {
    "collapsed": false
   },
   "outputs": [
    {
     "data": {
      "text/plain": [
       "array([ 0.55735661,  0.57927591,  0.59699625,  0.55319149,  0.57446809])"
      ]
     },
     "execution_count": 25,
     "metadata": {},
     "output_type": "execute_result"
    }
   ],
   "source": [
    "#Random forest con cross-validation.\n",
    "\n",
    "forest_cross = RandomForestClassifier(n_estimators=10)\n",
    "cross_validation.cross_val_score(forest_cross, movies, score, cv=5)\n",
    "\n",
    "# cv = 3, n = 10\n",
    "# array([ 0.54456929,  0.57389347,  0.54954955])\n",
    "\n",
    "# cv = 3, n = 10\n",
    "# array([ 0.55735661,  0.57927591,  0.59699625,  0.55319149,  0.57446809])\n",
    "\n"
   ]
  },
  {
   "cell_type": "markdown",
   "metadata": {},
   "source": [
    "## Random Forest test set Manual"
   ]
  },
  {
   "cell_type": "code",
   "execution_count": 27,
   "metadata": {
    "collapsed": false
   },
   "outputs": [
    {
     "data": {
      "text/plain": [
       "0.57166666666666666"
      ]
     },
     "execution_count": 27,
     "metadata": {},
     "output_type": "execute_result"
    }
   ],
   "source": [
    "X_train, X_test, y_train, y_test = cross_validation.train_test_split(movies, score, test_size=0.3)\n",
    "#, random_state=37\n",
    "\n",
    "forest_manual = RandomForestClassifier(n_estimators=10)\n",
    "forest_manual.fit(X_train, y_train)\n",
    "y_pred = forest_manual.predict(X_test)\n",
    "accuracy_score(y_test, y_pred)\n",
    "\n",
    "\n",
    "# test_size = 0.33\n",
    "# 0.57166666666666666\n",
    "\n",
    "# test_size = 0.5\n",
    "# 0.55449999999999999\n"
   ]
  },
  {
   "cell_type": "markdown",
   "metadata": {
    "collapsed": true
   },
   "source": [
    "# Arbol de Decision"
   ]
  },
  {
   "cell_type": "code",
   "execution_count": 28,
   "metadata": {
    "collapsed": false
   },
   "outputs": [
    {
     "data": {
      "text/plain": [
       "array([ 0.54975124,  0.52985075,  0.54      ,  0.5525    ,  0.5625    ,\n",
       "        0.56      ,  0.53132832,  0.54135338,  0.54887218,  0.5839599 ])"
      ]
     },
     "execution_count": 28,
     "metadata": {},
     "output_type": "execute_result"
    }
   ],
   "source": [
    "movies_tree = tree.DecisionTreeClassifier()\n",
    "cross_validation.cross_val_score(movies_tree, movies, score, cv=10)\n"
   ]
  },
  {
   "cell_type": "markdown",
   "metadata": {},
   "source": [
    "Aparentemente, tanto el arbol de decision como random forest tree no tienen un rendimiento mejor que los otros. ¿Por qué?"
   ]
  },
  {
   "cell_type": "markdown",
   "metadata": {},
   "source": [
    "# Regresion Lineal"
   ]
  },
  {
   "cell_type": "code",
   "execution_count": 32,
   "metadata": {
    "collapsed": false
   },
   "outputs": [
    {
     "data": {
      "text/plain": [
       "array([-0.2997575 ,  0.15327058,  0.01197338,  0.00139756,  0.10451518,\n",
       "        0.05117237,  0.14274102,  0.09868757,  0.06867603,  0.09969581])"
      ]
     },
     "execution_count": 32,
     "metadata": {},
     "output_type": "execute_result"
    }
   ],
   "source": [
    "reg = linear_model.LinearRegression()\n",
    "cross_validation.cross_val_score(reg, movies, score, cv=10)"
   ]
  },
  {
   "cell_type": "code",
   "execution_count": null,
   "metadata": {
    "collapsed": true
   },
   "outputs": [],
   "source": []
  },
  {
   "cell_type": "markdown",
   "metadata": {},
   "source": [
    "# Dummy Classifier\n",
    "\n",
    "Que debemos hacer ahora ? -> Validar los modelos comparandolos con un dummy "
   ]
  },
  {
   "cell_type": "code",
   "execution_count": null,
   "metadata": {
    "collapsed": true
   },
   "outputs": [],
   "source": []
  }
 ],
 "metadata": {
  "anaconda-cloud": {},
  "kernelspec": {
   "display_name": "Python [conda root]",
   "language": "python",
   "name": "conda-root-py"
  },
  "language_info": {
   "codemirror_mode": {
    "name": "ipython",
    "version": 2
   },
   "file_extension": ".py",
   "mimetype": "text/x-python",
   "name": "python",
   "nbconvert_exporter": "python",
   "pygments_lexer": "ipython2",
   "version": "2.7.12"
  }
 },
 "nbformat": 4,
 "nbformat_minor": 1
}
