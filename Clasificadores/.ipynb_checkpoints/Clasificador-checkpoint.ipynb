{
 "cells": [
  {
   "cell_type": "markdown",
   "metadata": {},
   "source": [
    "# Primer Intento de clasificador\n",
    "\n"
   ]
  },
  {
   "cell_type": "markdown",
   "metadata": {},
   "source": [
    "Como el titulo lo dice, primer intento de clasificador usando como referencia el laboratorio x .\n",
    "Se considera para este caso el archivo movies_final_imdb el cual contiene:\n",
    "    \n",
    "    movieId+nota_imbd_aprox+duracion+categoria+actores\n",
    "    \n",
    "    \n",
    "Nota : Falta agregar los directores y quizas las fechas para ve como cambia. "
   ]
  },
  {
   "cell_type": "code",
   "execution_count": 3,
   "metadata": {
    "collapsed": true
   },
   "outputs": [],
   "source": [
    "## Librerias\n",
    "import csv\n",
    "import numpy as np\n",
    "import pandas as pd\n",
    "from sklearn.datasets import load_iris, load_breast_cancer\n",
    "from sklearn.metrics import accuracy_score, precision_score, recall_score\n",
    "from sklearn.metrics import confusion_matrix, classification_report\n",
    "from sklearn.ensemble import RandomForestClassifier\n",
    "\n",
    "from sklearn.utils import shuffle\n",
    "\n",
    "from sklearn import tree\n",
    "from sklearn import svm\n",
    "from sklearn.neighbors import KNeighborsClassifier\n",
    "\n",
    "from sklearn import cross_validation"
   ]
  },
  {
   "cell_type": "markdown",
   "metadata": {},
   "source": [
    "Cargamos el archivo "
   ]
  },
  {
   "cell_type": "code",
   "execution_count": 81,
   "metadata": {
    "collapsed": false
   },
   "outputs": [],
   "source": [
    "#Cargamos el Archivo.\n",
    "\n",
    "movies = pd.read_csv(\"movies_final.csv\", header = 0)\n",
    "score = pd.read_csv(\"imbd.csv\", header = 0)\n",
    "\n",
    "movies_header = list(movies.columns.values)\n",
    "\n",
    "movies = movies.as_matrix()\n",
    "\n",
    "\n",
    "\n",
    "score = np.ravel(score.as_matrix())\n",
    "movies = movies[0:4400]\n",
    "score = score[0:4400]\n",
    "\n",
    "\n",
    "#score = np.asarray(score, dtype=\"|S6\")\n",
    "#print(\"Movies:\\n\", movies[4451])\n",
    "#print(\"Score:\\n\", score[4451])\n",
    "#print(movies_header)\n",
    "\n",
    "\n"
   ]
  },
  {
   "cell_type": "markdown",
   "metadata": {},
   "source": [
    "# KNN basico\n",
    "\n"
   ]
  },
  {
   "cell_type": "code",
   "execution_count": 40,
   "metadata": {
    "collapsed": false
   },
   "outputs": [
    {
     "name": "stdout",
     "output_type": "stream",
     "text": [
      "             precision    recall  f1-score   support\n",
      "\n",
      "          2       0.00      0.00      0.00        15\n",
      "          3       0.19      0.10      0.13        39\n",
      "          4       0.38      0.10      0.15       168\n",
      "          5       0.38      0.33      0.35       458\n",
      "          6       0.52      0.64      0.58      1475\n",
      "          7       0.52      0.57      0.55      1487\n",
      "          8       0.54      0.37      0.44       723\n",
      "          9       1.00      0.03      0.06        35\n",
      "\n",
      "avg / total       0.50      0.51      0.50      4400\n",
      "\n"
     ]
    }
   ],
   "source": [
    "# Primer Clasificador : K-nearnest-neighbors\n",
    "\n",
    "knn = KNeighborsClassifier(n_neighbors=10)\n",
    "knn.fit(movies, score)\n",
    "score_pred = knn.predict(movies)\n",
    "accuracy_score(score, score_pred)\n",
    "\n",
    "print(classification_report(score,score_pred))"
   ]
  },
  {
   "cell_type": "markdown",
   "metadata": {},
   "source": [
    "## KNN manual\n"
   ]
  },
  {
   "cell_type": "code",
   "execution_count": 41,
   "metadata": {
    "collapsed": false
   },
   "outputs": [
    {
     "name": "stdout",
     "output_type": "stream",
     "text": [
      "             precision    recall  f1-score   support\n",
      "\n",
      "          2       0.00      0.00      0.00         6\n",
      "          3       0.00      0.00      0.00        14\n",
      "          4       0.07      0.06      0.07        51\n",
      "          5       0.20      0.26      0.22       136\n",
      "          6       0.38      0.44      0.41       494\n",
      "          7       0.40      0.37      0.39       517\n",
      "          8       0.32      0.23      0.27       226\n",
      "          9       0.00      0.00      0.00         8\n",
      "\n",
      "avg / total       0.34      0.34      0.34      1452\n",
      "\n"
     ]
    }
   ],
   "source": [
    "# Primer Clasificador : K-nearnest-neighbors\n",
    "\n",
    "\n",
    "X_train, X_test, y_train, y_test = cross_validation.train_test_split(movies, score, test_size=0.33, random_state=37)\n",
    "\n",
    "knn = KNeighborsClassifier(n_neighbors=5)\n",
    "knn.fit(X_train, y_train)\n",
    "y_pred = knn.predict(X_test)\n",
    "accuracy_score(y_test, y_pred)\n",
    "\n",
    "print(classification_report(y_test, y_pred))\n"
   ]
  },
  {
   "cell_type": "markdown",
   "metadata": {},
   "source": [
    "## KNN - Cross Validation"
   ]
  },
  {
   "cell_type": "code",
   "execution_count": 42,
   "metadata": {
    "collapsed": false
   },
   "outputs": [
    {
     "data": {
      "text/plain": [
       "array([ 0.3476298 ,  0.32505643,  0.30474041,  0.35520362,  0.37556561,\n",
       "        0.35763098,  0.37813212,  0.34931507,  0.33715596,  0.35632184])"
      ]
     },
     "execution_count": 42,
     "metadata": {},
     "output_type": "execute_result"
    }
   ],
   "source": [
    "cross_validation.cross_val_score(knn, movies, score, cv=10)\n"
   ]
  },
  {
   "cell_type": "markdown",
   "metadata": {},
   "source": [
    "Aparentemente no es buen clasificador para estos casos. ¿Por qué?"
   ]
  },
  {
   "cell_type": "markdown",
   "metadata": {},
   "source": [
    "# Support Vector Machine - SVM"
   ]
  },
  {
   "cell_type": "code",
   "execution_count": 43,
   "metadata": {
    "collapsed": false
   },
   "outputs": [
    {
     "name": "stdout",
     "output_type": "stream",
     "text": [
      "             precision    recall  f1-score   support\n",
      "\n",
      "          2       0.00      0.00      0.00        15\n",
      "          3       0.16      0.15      0.16        39\n",
      "          4       0.29      0.20      0.24       168\n",
      "          5       0.35      0.41      0.38       458\n",
      "          6       0.51      0.59      0.55      1475\n",
      "          7       0.53      0.53      0.53      1487\n",
      "          8       0.50      0.34      0.41       723\n",
      "          9       0.75      0.09      0.15        35\n",
      "\n",
      "avg / total       0.49      0.49      0.48      4400\n",
      "\n"
     ]
    }
   ],
   "source": [
    "\n",
    "movies_svm = svm.SVC()\n",
    "movies_svm.fit(movies, score)  \n",
    "\n",
    "score_pred = knn.predict(movies)\n",
    "accuracy_score(score, score_pred)\n",
    "\n",
    "print(classification_report(score,score_pred))\n"
   ]
  },
  {
   "cell_type": "markdown",
   "metadata": {},
   "source": [
    "## SVM con Cross-Validation"
   ]
  },
  {
   "cell_type": "code",
   "execution_count": 54,
   "metadata": {
    "collapsed": false
   },
   "outputs": [
    {
     "data": {
      "text/plain": [
       "array([ 0.41125738,  0.41010469])"
      ]
     },
     "execution_count": 54,
     "metadata": {},
     "output_type": "execute_result"
    }
   ],
   "source": [
    "svm_cross = svm.SVC()\n",
    "cross_validation.cross_val_score(svm_cross, movies, score, cv=2)\n",
    "\n",
    "# cv = 3\n",
    "#array([ 0.42029973,  0.39305177,  0.41598361])\n",
    "\n",
    "\n",
    "#cv = 5\n",
    "# array([ 0.40816327,  0.41156463,  0.39954597,  0.4214123 ,  0.41619156])\n",
    "\n",
    "\n",
    "#cv = 2\n",
    "# array([ 0.41125738,  0.41010469])\n"
   ]
  },
  {
   "cell_type": "markdown",
   "metadata": {},
   "source": [
    "## SVM test set manual"
   ]
  },
  {
   "cell_type": "code",
   "execution_count": 12,
   "metadata": {
    "collapsed": false
   },
   "outputs": [
    {
     "data": {
      "text/plain": [
       "0.40289256198347106"
      ]
     },
     "execution_count": 12,
     "metadata": {},
     "output_type": "execute_result"
    }
   ],
   "source": [
    "X_train, X_test, y_train, y_test = cross_validation.train_test_split(movies, score, test_size=0.33)\n",
    "#, random_state=37\n",
    "\n",
    "svm_manual = svm.SVC()\n",
    "svm_manual.fit(X_train, y_train)\n",
    "y_pred = svm_manual.predict(X_test)\n",
    "accuracy_score(y_test, y_pred)\n",
    "\n",
    "\n",
    "# test_size = 0.5\n",
    "# 0.39863636363636362\n",
    "\n",
    "#test_size = 0.3\n",
    "# 0.40289256198347106\n",
    "\n"
   ]
  },
  {
   "cell_type": "markdown",
   "metadata": {},
   "source": [
    "Misteriosamente al tomar un 33% y un 50% del dataset, el resultado es bastante bueno."
   ]
  },
  {
   "cell_type": "markdown",
   "metadata": {
    "collapsed": true
   },
   "source": [
    "# Random Forest"
   ]
  },
  {
   "cell_type": "markdown",
   "metadata": {},
   "source": [
    "## Random forest con cross validation."
   ]
  },
  {
   "cell_type": "code",
   "execution_count": 18,
   "metadata": {
    "collapsed": false
   },
   "outputs": [
    {
     "data": {
      "text/plain": [
       "array([ 0.34332425,  0.37874659,  0.37704918])"
      ]
     },
     "execution_count": 18,
     "metadata": {},
     "output_type": "execute_result"
    }
   ],
   "source": [
    "#Random forest con cross-validation.\n",
    "\n",
    "forest_cross = RandomForestClassifier(n_estimators=10)\n",
    "cross_validation.cross_val_score(forest_cross, movies, score, cv=3)\n",
    "\n",
    "# cv = 3, n = 10\n",
    "# array([ 0.33651226,  0.36512262,  0.38456284])\n",
    "\n",
    "# cv = 3, n = 10\n",
    "# array([ 0.34240363,  0.361678  ,  0.36095346,  0.37699317,  0.37058153])\n",
    "\n"
   ]
  },
  {
   "cell_type": "markdown",
   "metadata": {},
   "source": [
    "## Random Forest test set Manual"
   ]
  },
  {
   "cell_type": "code",
   "execution_count": 30,
   "metadata": {
    "collapsed": false
   },
   "outputs": [
    {
     "data": {
      "text/plain": [
       "0.38636363636363635"
      ]
     },
     "execution_count": 30,
     "metadata": {},
     "output_type": "execute_result"
    }
   ],
   "source": [
    "X_train, X_test, y_train, y_test = cross_validation.train_test_split(movies, score, test_size=0.5)\n",
    "#, random_state=37\n",
    "\n",
    "forest_manual = RandomForestClassifier(n_estimators=10)\n",
    "forest_manual.fit(X_train, y_train)\n",
    "y_pred = forest_manual.predict(X_test)\n",
    "accuracy_score(y_test, y_pred)\n",
    "\n",
    "\n",
    "# test_size = 0.33\n",
    "# 0.38636363636363635\n",
    "\n",
    "# test_size = 0.5\n",
    "# 0.36363636363636365\n",
    "# 0.38636363636363635\n",
    "# 0.38636363636363635 ......\n"
   ]
  },
  {
   "cell_type": "markdown",
   "metadata": {},
   "source": [
    "# SVM Modificado"
   ]
  },
  {
   "cell_type": "code",
   "execution_count": 87,
   "metadata": {
    "collapsed": false
   },
   "outputs": [
    {
     "data": {
      "text/plain": [
       "0.39944903581267216"
      ]
     },
     "execution_count": 87,
     "metadata": {},
     "output_type": "execute_result"
    }
   ],
   "source": [
    "# SVM Modificado\n",
    "# kernels probados ‘linear’, ‘poly’, ‘rbf’, ‘sigmoid’, ‘precomputed’\n",
    "# kernel poly con grado 3.\n",
    "# mas sobre el kernel : http://stats.stackexchange.com/questions/18030/how-to-select-kernel-for-svm\n",
    "\n",
    "X_train, X_test, y_train, y_test = cross_validation.train_test_split(movies, score, test_size=0.33)\n",
    "#, random_state=37\n",
    "\n",
    "svm_mod = svm.SVC(kernel='rbf')\n",
    "svm_mod.fit(X_train, y_train)\n",
    "y_pred = svm_mod.predict(X_test)\n",
    "accuracy_score(y_test, y_pred)\n",
    "\n",
    "\n",
    "\n",
    "\n",
    "# lineal -> 0.40702479338842973\n",
    "# poly -> 0.37190082644628097\n",
    "# sigmoid -> 0.33126721763085398\n",
    "# rbf -> 0.41528925619834711"
   ]
  },
  {
   "cell_type": "code",
   "execution_count": 90,
   "metadata": {
    "collapsed": false
   },
   "outputs": [
    {
     "name": "stdout",
     "output_type": "stream",
     "text": [
      "Prediccion de nota para toy story: \n",
      "\n"
     ]
    },
    {
     "data": {
      "text/plain": [
       "array([6])"
      ]
     },
     "execution_count": 90,
     "metadata": {},
     "output_type": "execute_result"
    }
   ],
   "source": [
    "#predict toy_story\n",
    "toy_story = movies[0]\n",
    "#print toy_story\n",
    "print \"Prediccion de nota para toy story: \\n\"\n",
    "svm_mod.predict([movies[0]])"
   ]
  },
  {
   "cell_type": "code",
   "execution_count": 77,
   "metadata": {
    "collapsed": false
   },
   "outputs": [
    {
     "data": {
      "text/plain": [
       "0.41666666666666669"
      ]
     },
     "execution_count": 77,
     "metadata": {},
     "output_type": "execute_result"
    }
   ],
   "source": [
    "# Aparentemente, no apaña sacar la duracion. :(\n",
    "\n",
    "\n",
    "movies_sin_duracion = pd.read_csv(\"movies_final_sin_duracion.csv\", header = 0)\n",
    "#movies_sin_duracion_header = list(movies.columns.values)\n",
    "movies_sin_duracion = movies_sin_duracion.as_matrix()\n",
    "movies_sin_duracion = movies_sin_duracion[0:4400]\n",
    "X_train, X_test, y_train, y_test = cross_validation.train_test_split(movies_sin_duracion, score, test_size=0.33)\n",
    "#, random_state=37\n",
    "\n",
    "svm_mod = svm.SVC()\n",
    "svm_mod.fit(X_train, y_train)\n",
    "y_pred = svm_mod.predict(X_test)\n",
    "accuracy_score(y_test, y_pred)\n"
   ]
  },
  {
   "cell_type": "code",
   "execution_count": null,
   "metadata": {
    "collapsed": true
   },
   "outputs": [],
   "source": []
  }
 ],
 "metadata": {
  "anaconda-cloud": {},
  "kernelspec": {
   "display_name": "Python [conda root]",
   "language": "python",
   "name": "conda-root-py"
  },
  "language_info": {
   "codemirror_mode": {
    "name": "ipython",
    "version": 2
   },
   "file_extension": ".py",
   "mimetype": "text/x-python",
   "name": "python",
   "nbconvert_exporter": "python",
   "pygments_lexer": "ipython2",
   "version": "2.7.12"
  }
 },
 "nbformat": 4,
 "nbformat_minor": 1
}
